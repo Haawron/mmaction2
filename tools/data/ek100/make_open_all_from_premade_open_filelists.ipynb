{
 "cells": [
  {
   "cell_type": "code",
   "execution_count": 5,
   "metadata": {},
   "outputs": [],
   "source": [
    "from pathlib import Path\n",
    "import csv\n",
    "import pandas as pd"
   ]
  },
  {
   "cell_type": "code",
   "execution_count": 9,
   "metadata": {},
   "outputs": [
    {
     "data": {
      "text/plain": [
       "(['P02/rgb_frames/P02_123', '1330', '120', '5'],\n",
       " narration_id               P01_01_0\n",
       " participant_id                  P01\n",
       " video_id                     P01_01\n",
       " narration_timestamp    00:00:01.089\n",
       " start_timestamp         00:00:00.14\n",
       " stop_timestamp          00:00:03.37\n",
       " start_frame                       8\n",
       " stop_frame                      202\n",
       " narration                 open door\n",
       " verb                           open\n",
       " verb_class                        3\n",
       " noun                           door\n",
       " noun_class                        3\n",
       " all_nouns                  ['door']\n",
       " all_noun_classes                [3]\n",
       " Name: 0, dtype: object)"
      ]
     },
     "execution_count": 9,
     "metadata": {},
     "output_type": "execute_result"
    }
   ],
   "source": [
    "p_ann_open = Path('/data/hyogun/repos/haawron_mmaction2/data/epic-kitchens-100/filelist_P02_train_open.txt')\n",
    "p_ann_official = Path('/data/hyogun/repos/epic-kitchens-100-annotations/EPIC_100_train.csv')\n",
    "p_ann_open_all = p_ann_open.with_name(p_ann_open.name.replace('open.txt', 'open_all.txt'))\n",
    "\n",
    "with p_ann_open.open() as f:\n",
    "    ann_open = list(csv.reader(f, delimiter=' '))\n",
    "with p_ann_official.open() as f:\n",
    "    ann_official = pd.read_csv(f)\n",
    "ann_open[0], ann_official.iloc[0]"
   ]
  },
  {
   "cell_type": "code",
   "execution_count": 21,
   "metadata": {},
   "outputs": [],
   "source": [
    "f = p_ann_open_all.open('w')\n",
    "writer = csv.writer(f, delimiter=' ')\n",
    "for p_video, start_frame, length, label in ann_open:\n",
    "    found_row = ann_official.loc[\n",
    "        (ann_official['video_id'] == p_video.split('/')[-1])\n",
    "        & (ann_official['start_frame'] == int(start_frame))\n",
    "        & (ann_official['stop_frame'] - ann_official['start_frame'] + 1 == int(length))\n",
    "    ]\n",
    "    if len(found_row) != 1:\n",
    "        print(len(found_row), p_video, start_frame, length, label)\n",
    "    writer.writerow([p_video, start_frame, length, found_row['verb_class'].values[0]])\n",
    "f.close()"
   ]
  },
  {
   "attachments": {},
   "cell_type": "markdown",
   "metadata": {},
   "source": [
    "# Altogether"
   ]
  },
  {
   "cell_type": "code",
   "execution_count": 27,
   "metadata": {},
   "outputs": [
    {
     "name": "stdout",
     "output_type": "stream",
     "text": [
      "/data/hyogun/repos/haawron_mmaction2/data/_filelists/ek100/filelist_P22_test_open.txt\n",
      "2 P22/rgb_frames/P22_17 19458 76 1\n",
      "/data/hyogun/repos/haawron_mmaction2/data/_filelists/ek100/filelist_P02_valid_open.txt\n",
      "/data/hyogun/repos/haawron_mmaction2/data/_filelists/ek100/filelist_P04_test_open.txt\n",
      "/data/hyogun/repos/haawron_mmaction2/data/_filelists/ek100/filelist_P04_train_open.txt\n",
      "2 P04/rgb_frames/P04_109 33697 23 5\n",
      "2 P04/rgb_frames/P04_109 33697 23 1\n",
      "/data/hyogun/repos/haawron_mmaction2/data/_filelists/ek100/filelist_P02_test_open.txt\n",
      "/data/hyogun/repos/haawron_mmaction2/data/_filelists/ek100/filelist_P22_test_merged_open.txt\n",
      "2 P22/rgb_frames/P22_17 19458 76 1\n",
      "2 P22/rgb_frames/P22_12 4025 361 5\n",
      "/data/hyogun/repos/haawron_mmaction2/data/_filelists/ek100/filelist_P04_test_merged_open.txt\n",
      "/data/hyogun/repos/haawron_mmaction2/data/_filelists/ek100/filelist_P02_train_open.txt\n",
      "/data/hyogun/repos/haawron_mmaction2/data/_filelists/ek100/filelist_P22_train_open.txt\n",
      "2 P22/rgb_frames/P22_12 4025 361 5\n",
      "2 P22/rgb_frames/P22_17 19458 76 5\n",
      "2 P22/rgb_frames/P22_08 17280 574 2\n",
      "2 P22/rgb_frames/P22_08 17280 574 2\n",
      "/data/hyogun/repos/haawron_mmaction2/data/_filelists/ek100/filelist_P22_valid_open.txt\n",
      "2 P22/rgb_frames/P22_12 4025 361 5\n",
      "/data/hyogun/repos/haawron_mmaction2/data/_filelists/ek100/filelist_P02_test_merged_open.txt\n",
      "/data/hyogun/repos/haawron_mmaction2/data/_filelists/ek100/filelist_P04_valid_open.txt\n"
     ]
    }
   ],
   "source": [
    "from pathlib import Path\n",
    "import csv\n",
    "import pandas as pd\n",
    "\n",
    "p_ann_dir = Path('/data/hyogun/repos/haawron_mmaction2/data/_filelists/ek100')\n",
    "p_ann_official = Path('/data/hyogun/repos/epic-kitchens-100-annotations/EPIC_100_train.csv')\n",
    "with p_ann_official.open() as f:\n",
    "    ann_official = pd.read_csv(f)\n",
    "\n",
    "for p_ann_open in p_ann_dir.glob('*.txt'):\n",
    "    if 'open' not in p_ann_open.name or 'open_all' in p_ann_open.name:\n",
    "        continue\n",
    "\n",
    "    print(p_ann_open)\n",
    "    with p_ann_open.open() as f:\n",
    "        ann_open = list(csv.reader(f, delimiter=' '))\n",
    "    p_ann_open_all = p_ann_open.with_name(p_ann_open.name.replace('open.txt', 'open_all.txt'))\n",
    "    f = p_ann_open_all.open('w')\n",
    "    writer = csv.writer(f, delimiter=' ')\n",
    "    for p_video, start_frame, length, label in ann_open:\n",
    "        found_row = ann_official.loc[\n",
    "            (ann_official['video_id'] == p_video.split('/')[-1])\n",
    "            & (ann_official['start_frame'] == int(start_frame))\n",
    "            & (ann_official['stop_frame'] - ann_official['start_frame'] + 1 == int(length))\n",
    "        ]\n",
    "        if len(found_row) != 1:\n",
    "            print(len(found_row), p_video, start_frame, length, label)\n",
    "        writer.writerow([p_video, start_frame, length, found_row['verb_class'].values[0]])\n",
    "    f.close()"
   ]
  }
 ],
 "metadata": {
  "kernelspec": {
   "display_name": "open-mmlab",
   "language": "python",
   "name": "python3"
  },
  "language_info": {
   "codemirror_mode": {
    "name": "ipython",
    "version": 3
   },
   "file_extension": ".py",
   "mimetype": "text/x-python",
   "name": "python",
   "nbconvert_exporter": "python",
   "pygments_lexer": "ipython3",
   "version": "3.7.11"
  },
  "orig_nbformat": 4,
  "vscode": {
   "interpreter": {
    "hash": "5bffa9bf2f09109ed8eb2df7a7ed69cac97689136798a3d627c1002bd814088d"
   }
  }
 },
 "nbformat": 4,
 "nbformat_minor": 2
}
