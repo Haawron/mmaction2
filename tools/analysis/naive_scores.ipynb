{
 "cells": [
  {
   "cell_type": "code",
   "execution_count": 44,
   "metadata": {},
   "outputs": [],
   "source": [
    "from slurm.gcd4da.commons.kmeans import SSKMeansTrainer as KMeans\n",
    "from mmaction.datasets.custom_metrics import split_cluster_acc_v2, split_cluster_acc_v2_balanced\n",
    "import numpy as np\n",
    "from pathlib import Path\n",
    "import csv\n",
    "import inspect\n",
    "from itertools import permutations"
   ]
  },
  {
   "cell_type": "code",
   "execution_count": 60,
   "metadata": {},
   "outputs": [
    {
     "name": "stdout",
     "output_type": "stream",
     "text": [
      "ucf hmdb\n",
      "\t (2102,) (1904,)\n",
      "\t (2102, 768) (1904, 768)\n",
      "hmdb ucf\n",
      "\t (1904,) (2102,)\n",
      "\t (1904, 768) (2102, 768)\n",
      "P04 P02\n",
      "\t (4555,) (4810,)\n",
      "\t (4555, 768) (4810, 768)\n",
      "P22 P02\n",
      "\t (8061,) (4810,)\n",
      "\t (8061, 768) (4810, 768)\n",
      "P02 P04\n",
      "\t (4810,) (4555,)\n",
      "\t (4810, 768) (4555, 768)\n",
      "P22 P04\n",
      "\t (8061,) (4555,)\n",
      "\t (8061, 768) (4555, 768)\n",
      "P02 P22\n",
      "\t (4810,) (8061,)\n",
      "\t (4810, 768) (8061, 768)\n",
      "P04 P22\n",
      "\t (4555,) (8061,)\n",
      "\t (4555, 768) (8061, 768)\n",
      "k400 babel\n",
      "\t (23085,) (10176,)\n",
      "\t (23085, 768) (10176, 768)\n",
      "babel k400\n",
      "\t (10176,) (23085,)\n",
      "\t (10176, 768) (23085, 768)\n",
      "ucf hmdb\n"
     ]
    },
    {
     "name": "stderr",
     "output_type": "stream",
     "text": [
      "/data/hyogun/repos/haawron_mmaction2/slurm/gcd4da/commons/semi_kmeans.py:69: RuntimeWarning: invalid value encountered in true_divide\n",
      "  sim = X @ Y.T / (norm_X * norm_Y)**.5\n",
      "/data/hyogun/repos/haawron_mmaction2/slurm/gcd4da/commons/semi_kmeans.py:69: RuntimeWarning: invalid value encountered in true_divide\n",
      "  sim = X @ Y.T / (norm_X * norm_Y)**.5\n",
      "/data/hyogun/repos/haawron_mmaction2/slurm/gcd4da/commons/semi_kmeans.py:69: RuntimeWarning: invalid value encountered in true_divide\n",
      "  sim = X @ Y.T / (norm_X * norm_Y)**.5\n",
      "/data/hyogun/repos/haawron_mmaction2/slurm/gcd4da/commons/semi_kmeans.py:69: RuntimeWarning: invalid value encountered in true_divide\n",
      "  sim = X @ Y.T / (norm_X * norm_Y)**.5\n"
     ]
    },
    {
     "name": "stdout",
     "output_type": "stream",
     "text": [
      "hmdb ucf\n"
     ]
    },
    {
     "name": "stderr",
     "output_type": "stream",
     "text": [
      "/data/hyogun/repos/haawron_mmaction2/slurm/gcd4da/commons/semi_kmeans.py:69: RuntimeWarning: invalid value encountered in true_divide\n",
      "  sim = X @ Y.T / (norm_X * norm_Y)**.5\n",
      "/data/hyogun/repos/haawron_mmaction2/slurm/gcd4da/commons/semi_kmeans.py:69: RuntimeWarning: invalid value encountered in true_divide\n",
      "  sim = X @ Y.T / (norm_X * norm_Y)**.5\n"
     ]
    },
    {
     "ename": "KeyboardInterrupt",
     "evalue": "",
     "output_type": "error",
     "traceback": [
      "\u001b[0;31m---------------------------------------------------------------------------\u001b[0m",
      "\u001b[0;31mIndexError\u001b[0m                                Traceback (most recent call last)",
      "\u001b[0;32m/data/hyogun/anaconda3/envs/open-mmlab/lib/python3.7/multiprocessing/pool.py\u001b[0m in \u001b[0;36mnext\u001b[0;34m(self, timeout)\u001b[0m\n\u001b[1;32m    732\u001b[0m             \u001b[0;32mtry\u001b[0m\u001b[0;34m:\u001b[0m\u001b[0;34m\u001b[0m\u001b[0;34m\u001b[0m\u001b[0m\n\u001b[0;32m--> 733\u001b[0;31m                 \u001b[0mitem\u001b[0m \u001b[0;34m=\u001b[0m \u001b[0mself\u001b[0m\u001b[0;34m.\u001b[0m\u001b[0m_items\u001b[0m\u001b[0;34m.\u001b[0m\u001b[0mpopleft\u001b[0m\u001b[0;34m(\u001b[0m\u001b[0;34m)\u001b[0m\u001b[0;34m\u001b[0m\u001b[0;34m\u001b[0m\u001b[0m\n\u001b[0m\u001b[1;32m    734\u001b[0m             \u001b[0;32mexcept\u001b[0m \u001b[0mIndexError\u001b[0m\u001b[0;34m:\u001b[0m\u001b[0;34m\u001b[0m\u001b[0;34m\u001b[0m\u001b[0m\n",
      "\u001b[0;31mIndexError\u001b[0m: pop from an empty deque",
      "\nDuring handling of the above exception, another exception occurred:\n",
      "\u001b[0;31mKeyboardInterrupt\u001b[0m                         Traceback (most recent call last)",
      "\u001b[0;32m/tmp/ipykernel_3058294/836063887.py\u001b[0m in \u001b[0;36m<module>\u001b[0;34m\u001b[0m\n\u001b[1;32m     79\u001b[0m         \u001b[0mnum_old_classes\u001b[0m\u001b[0;34m,\u001b[0m \u001b[0mnum_all_classes\u001b[0m \u001b[0;34m=\u001b[0m \u001b[0mnum_classes_mapping\u001b[0m\u001b[0;34m[\u001b[0m\u001b[0mtarget\u001b[0m\u001b[0;34m]\u001b[0m\u001b[0;34m\u001b[0m\u001b[0;34m\u001b[0m\u001b[0m\n\u001b[1;32m     80\u001b[0m         \u001b[0mprint\u001b[0m\u001b[0;34m(\u001b[0m\u001b[0msource\u001b[0m\u001b[0;34m,\u001b[0m \u001b[0mtarget\u001b[0m\u001b[0;34m)\u001b[0m\u001b[0;34m\u001b[0m\u001b[0;34m\u001b[0m\u001b[0m\n\u001b[0;32m---> 81\u001b[0;31m         \u001b[0mmodels\u001b[0m\u001b[0;34m[\u001b[0m\u001b[0;34mf'{source}_{target}'\u001b[0m\u001b[0;34m]\u001b[0m \u001b[0;34m=\u001b[0m \u001b[0mkmeans\u001b[0m\u001b[0;34m.\u001b[0m\u001b[0mtrain\u001b[0m\u001b[0;34m(\u001b[0m\u001b[0;34m)\u001b[0m\u001b[0;34m\u001b[0m\u001b[0;34m\u001b[0m\u001b[0m\n\u001b[0m",
      "\u001b[0;32m/data/hyogun/repos/haawron_mmaction2/slurm/gcd4da/commons/kmeans.py\u001b[0m in \u001b[0;36mtrain\u001b[0;34m(self)\u001b[0m\n\u001b[1;32m    136\u001b[0m     \u001b[0;32mdef\u001b[0m \u001b[0mtrain\u001b[0m\u001b[0;34m(\u001b[0m\u001b[0mself\u001b[0m\u001b[0;34m)\u001b[0m\u001b[0;34m:\u001b[0m\u001b[0;34m\u001b[0m\u001b[0;34m\u001b[0m\u001b[0m\n\u001b[1;32m    137\u001b[0m         \u001b[0mjobs\u001b[0m \u001b[0;34m=\u001b[0m \u001b[0mself\u001b[0m\u001b[0;34m.\u001b[0m\u001b[0m_generate_jobs\u001b[0m\u001b[0;34m(\u001b[0m\u001b[0;34m)\u001b[0m\u001b[0;34m\u001b[0m\u001b[0;34m\u001b[0m\u001b[0m\n\u001b[0;32m--> 138\u001b[0;31m         \u001b[0mresults\u001b[0m\u001b[0;34m:\u001b[0m\u001b[0mResultDict\u001b[0m \u001b[0;34m=\u001b[0m \u001b[0mself\u001b[0m\u001b[0;34m.\u001b[0m\u001b[0m_train_all_kmeans_models\u001b[0m\u001b[0;34m(\u001b[0m\u001b[0mjobs\u001b[0m\u001b[0;34m)\u001b[0m\u001b[0;34m\u001b[0m\u001b[0;34m\u001b[0m\u001b[0m\n\u001b[0m\u001b[1;32m    139\u001b[0m         \u001b[0mself\u001b[0m\u001b[0;34m.\u001b[0m\u001b[0m_calculate_score_statistics_from_results_and_draw_best_model\u001b[0m\u001b[0;34m(\u001b[0m\u001b[0mresults\u001b[0m\u001b[0;34m)\u001b[0m\u001b[0;34m\u001b[0m\u001b[0;34m\u001b[0m\u001b[0m\n\u001b[1;32m    140\u001b[0m \u001b[0;34m\u001b[0m\u001b[0m\n",
      "\u001b[0;32m/data/hyogun/repos/haawron_mmaction2/slurm/gcd4da/commons/kmeans.py\u001b[0m in \u001b[0;36m_train_all_kmeans_models\u001b[0;34m(self, jobs)\u001b[0m\n\u001b[1;32m    226\u001b[0m         \u001b[0mresults\u001b[0m \u001b[0;34m=\u001b[0m \u001b[0mdefaultdict\u001b[0m\u001b[0;34m(\u001b[0m\u001b[0mlist\u001b[0m\u001b[0;34m)\u001b[0m  \u001b[0;31m# |K| : N_tries x (1 + |SPLITS|x|METRICS|)\u001b[0m\u001b[0;34m\u001b[0m\u001b[0;34m\u001b[0m\u001b[0m\n\u001b[1;32m    227\u001b[0m         \u001b[0;32mwith\u001b[0m \u001b[0mPool\u001b[0m\u001b[0;34m(\u001b[0m\u001b[0mself\u001b[0m\u001b[0;34m.\u001b[0m\u001b[0mn_cpus\u001b[0m\u001b[0;34m)\u001b[0m \u001b[0;32mas\u001b[0m \u001b[0mp\u001b[0m\u001b[0;34m:\u001b[0m\u001b[0;34m\u001b[0m\u001b[0;34m\u001b[0m\u001b[0m\n\u001b[0;32m--> 228\u001b[0;31m             \u001b[0;32mfor\u001b[0m \u001b[0mmodel\u001b[0m\u001b[0;34m,\u001b[0m \u001b[0mscores\u001b[0m \u001b[0;32min\u001b[0m \u001b[0mp\u001b[0m\u001b[0;34m.\u001b[0m\u001b[0mimap_unordered\u001b[0m\u001b[0;34m(\u001b[0m\u001b[0mself\u001b[0m\u001b[0;34m.\u001b[0m\u001b[0m_worker\u001b[0m\u001b[0;34m,\u001b[0m \u001b[0mjobs\u001b[0m\u001b[0;34m)\u001b[0m\u001b[0;34m:\u001b[0m\u001b[0;34m\u001b[0m\u001b[0;34m\u001b[0m\u001b[0m\n\u001b[0m\u001b[1;32m    229\u001b[0m                 \u001b[0mresults\u001b[0m\u001b[0;34m[\u001b[0m\u001b[0mmodel\u001b[0m\u001b[0;34m.\u001b[0m\u001b[0mk\u001b[0m\u001b[0;34m]\u001b[0m\u001b[0;34m.\u001b[0m\u001b[0mappend\u001b[0m\u001b[0;34m(\u001b[0m\u001b[0;34m(\u001b[0m\u001b[0mmodel\u001b[0m\u001b[0;34m,\u001b[0m \u001b[0mscores\u001b[0m\u001b[0;34m)\u001b[0m\u001b[0;34m)\u001b[0m\u001b[0;34m\u001b[0m\u001b[0;34m\u001b[0m\u001b[0m\n\u001b[1;32m    230\u001b[0m         \u001b[0mp\u001b[0m\u001b[0;34m.\u001b[0m\u001b[0mjoin\u001b[0m\u001b[0;34m(\u001b[0m\u001b[0;34m)\u001b[0m\u001b[0;34m\u001b[0m\u001b[0;34m\u001b[0m\u001b[0m\n",
      "\u001b[0;32m/data/hyogun/anaconda3/envs/open-mmlab/lib/python3.7/multiprocessing/pool.py\u001b[0m in \u001b[0;36mnext\u001b[0;34m(self, timeout)\u001b[0m\n\u001b[1;32m    735\u001b[0m                 \u001b[0;32mif\u001b[0m \u001b[0mself\u001b[0m\u001b[0;34m.\u001b[0m\u001b[0m_index\u001b[0m \u001b[0;34m==\u001b[0m \u001b[0mself\u001b[0m\u001b[0;34m.\u001b[0m\u001b[0m_length\u001b[0m\u001b[0;34m:\u001b[0m\u001b[0;34m\u001b[0m\u001b[0;34m\u001b[0m\u001b[0m\n\u001b[1;32m    736\u001b[0m                     \u001b[0;32mraise\u001b[0m \u001b[0mStopIteration\u001b[0m \u001b[0;32mfrom\u001b[0m \u001b[0;32mNone\u001b[0m\u001b[0;34m\u001b[0m\u001b[0;34m\u001b[0m\u001b[0m\n\u001b[0;32m--> 737\u001b[0;31m                 \u001b[0mself\u001b[0m\u001b[0;34m.\u001b[0m\u001b[0m_cond\u001b[0m\u001b[0;34m.\u001b[0m\u001b[0mwait\u001b[0m\u001b[0;34m(\u001b[0m\u001b[0mtimeout\u001b[0m\u001b[0;34m)\u001b[0m\u001b[0;34m\u001b[0m\u001b[0;34m\u001b[0m\u001b[0m\n\u001b[0m\u001b[1;32m    738\u001b[0m                 \u001b[0;32mtry\u001b[0m\u001b[0;34m:\u001b[0m\u001b[0;34m\u001b[0m\u001b[0;34m\u001b[0m\u001b[0m\n\u001b[1;32m    739\u001b[0m                     \u001b[0mitem\u001b[0m \u001b[0;34m=\u001b[0m \u001b[0mself\u001b[0m\u001b[0;34m.\u001b[0m\u001b[0m_items\u001b[0m\u001b[0;34m.\u001b[0m\u001b[0mpopleft\u001b[0m\u001b[0;34m(\u001b[0m\u001b[0;34m)\u001b[0m\u001b[0;34m\u001b[0m\u001b[0;34m\u001b[0m\u001b[0m\n",
      "\u001b[0;32m/data/hyogun/anaconda3/envs/open-mmlab/lib/python3.7/threading.py\u001b[0m in \u001b[0;36mwait\u001b[0;34m(self, timeout)\u001b[0m\n\u001b[1;32m    294\u001b[0m         \u001b[0;32mtry\u001b[0m\u001b[0;34m:\u001b[0m    \u001b[0;31m# restore state no matter what (e.g., KeyboardInterrupt)\u001b[0m\u001b[0;34m\u001b[0m\u001b[0;34m\u001b[0m\u001b[0m\n\u001b[1;32m    295\u001b[0m             \u001b[0;32mif\u001b[0m \u001b[0mtimeout\u001b[0m \u001b[0;32mis\u001b[0m \u001b[0;32mNone\u001b[0m\u001b[0;34m:\u001b[0m\u001b[0;34m\u001b[0m\u001b[0;34m\u001b[0m\u001b[0m\n\u001b[0;32m--> 296\u001b[0;31m                 \u001b[0mwaiter\u001b[0m\u001b[0;34m.\u001b[0m\u001b[0macquire\u001b[0m\u001b[0;34m(\u001b[0m\u001b[0;34m)\u001b[0m\u001b[0;34m\u001b[0m\u001b[0;34m\u001b[0m\u001b[0m\n\u001b[0m\u001b[1;32m    297\u001b[0m                 \u001b[0mgotit\u001b[0m \u001b[0;34m=\u001b[0m \u001b[0;32mTrue\u001b[0m\u001b[0;34m\u001b[0m\u001b[0;34m\u001b[0m\u001b[0m\n\u001b[1;32m    298\u001b[0m             \u001b[0;32melse\u001b[0m\u001b[0;34m:\u001b[0m\u001b[0;34m\u001b[0m\u001b[0;34m\u001b[0m\u001b[0m\n",
      "\u001b[0;31mKeyboardInterrupt\u001b[0m: "
     ]
    }
   ],
   "source": [
    "tasks = {\n",
    "    'hello': ['ucf', 'hmdb'],\n",
    "    'ek100': ['P02', 'P04', 'P22'],\n",
    "    'simnreal': ['k400', 'babel']\n",
    "}\n",
    "real_dataset_name_mapping = {\n",
    "    'ucf': ['ucf101', 'ucf'],\n",
    "    'hmdb': ['hmdb51', 'hmdb'],\n",
    "    'P02': ['ek100', 'P02'],\n",
    "    'P04': ['ek100', 'P04'],\n",
    "    'P22': ['ek100', 'P22'],\n",
    "    'k400': ['k400', 'k400'],\n",
    "    'babel': ['babel', 'babel'],\n",
    "}\n",
    "num_classes_mapping = {\n",
    "    'ucf': [12, 22],\n",
    "    'hmdb': [12, 22],\n",
    "    'P02': [5, 15],\n",
    "    'P04': [5, 15],\n",
    "    'P22': [5, 15],\n",
    "    'k400': [12, 27],\n",
    "    'babel': [12, 20],\n",
    "}\n",
    "\n",
    "def get_ann_from_domainname(domain:str):\n",
    "    dataset_dirname, dataset_filelist_name = real_dataset_name_mapping[domain]\n",
    "    p_ann_dir = p_filelist_base / dataset_dirname\n",
    "    if domain not in ['ucf', 'hmdb']:\n",
    "        p_ann_dir /= 'processed'\n",
    "    p_ann = p_ann_dir / f'filelist_{dataset_filelist_name}_train_open_all.txt'\n",
    "    assert p_ann.is_file()\n",
    "    with p_ann.open() as f:\n",
    "        ann = np.array([int(line[-1]) for line in csv.reader(f, delimiter=' ')])\n",
    "    return ann\n",
    "\n",
    "def get_features_from_domainname(task:str, domain:str):\n",
    "    weight = 'k400' if task != 'simnreal' else 'in1k'\n",
    "    p_pkl = Path(f'/data/hyogun/repos/haawron_mmaction2/data/features/{weight}/{task}/{domain}/train.pkl')\n",
    "    pkl = np.array(np.load(p_pkl, allow_pickle=True))\n",
    "    return pkl\n",
    "\n",
    "models = {}\n",
    "p_filelist_base = Path(f\"/data/hyogun/repos/haawron_mmaction2/data/_filelists\")\n",
    "for task in tasks:\n",
    "    for source, target in permutations(tasks[task], 2):\n",
    "        if task == 'ek100':\n",
    "            target, source = source, target\n",
    "        ann_source = get_ann_from_domainname(source)\n",
    "        ann_target = get_ann_from_domainname(target)\n",
    "        pkl_source = get_features_from_domainname(task, source)\n",
    "        pkl_target = get_features_from_domainname(task, target)\n",
    "        assert ann_source.shape[0] == pkl_source.shape[0]\n",
    "        assert ann_target.shape[0] == pkl_target.shape[0]\n",
    "        num_old_classes, num_all_classes = num_classes_mapping[target]\n",
    "        print(source, target)\n",
    "        print('\\t', ann_source.shape,  ann_target.shape)\n",
    "        print('\\t', pkl_source.shape,  pkl_target.shape)\n",
    "\n",
    "        # just building\n",
    "        kmeans = KMeans(autoinit=False, num_known_classes=num_old_classes)\n",
    "        kmeans.Xs = {\n",
    "            'train_source': pkl_source[ann_source<num_old_classes],\n",
    "            'train_target': pkl_target,\n",
    "            'valid': pkl_target,\n",
    "            'test': pkl_target,\n",
    "        }\n",
    "        kmeans.anns = {\n",
    "            'train_source': ann_source[ann_source<num_old_classes],\n",
    "            'train_target': ann_target,\n",
    "            'valid': ann_target,\n",
    "            'test': ann_target,\n",
    "        }\n",
    "        models[f'{source}_{target}'] = kmeans\n",
    "\n",
    "for task in tasks:\n",
    "    for source, target in permutations(tasks[task], 2):\n",
    "        if task == 'ek100':\n",
    "            target, source = source, target\n",
    "        num_old_classes, num_all_classes = num_classes_mapping[target]\n",
    "        print(source, target)\n",
    "        kmeans = models[f'{source}_{target}']\n",
    "        kmeans.train()\n",
    "\n",
    "        pred_target = kmeans.predict(kmeans.model_best)['test']\n",
    "        old_mask = (ann_target < num_old_classes)\n",
    "        total_acc, old_acc, new_acc, conf = split_cluster_acc_v2(ann_target, pred_target, old_mask, True)\n",
    "        log = inspect.cleandoc(f'''\n",
    "            ALL: {100*total_acc:4.1f}\n",
    "            Old: {100*old_acc:4.1f}\n",
    "            New: {100*new_acc:4.1f}\n",
    "        ''') + '\\n\\n'\n",
    "        total_acc, old_acc, new_acc = split_cluster_acc_v2_balanced(ann_target, pred_target, old_mask)\n",
    "        log += inspect.cleandoc(f'''\n",
    "            ALL: {100*total_acc:4.1f}\n",
    "            Old: {100*old_acc:4.1f}\n",
    "            New: {100*new_acc:4.1f}\n",
    "        ''') + '\\n'\n",
    "        print(log)\n",
    "        with np.printoptions(linewidth=1000, threshold=1000):\n",
    "            print(conf)"
   ]
  },
  {
   "attachments": {},
   "cell_type": "markdown",
   "metadata": {},
   "source": [
    "# LEGACY"
   ]
  },
  {
   "cell_type": "code",
   "execution_count": 3,
   "metadata": {},
   "outputs": [
    {
     "data": {
      "text/plain": [
       "((10176, 768), (23085, 768))"
      ]
     },
     "execution_count": 3,
     "metadata": {},
     "output_type": "execute_result"
    }
   ],
   "source": [
    "p_pkl_source = Path('/data/hyogun/repos/haawron_mmaction2/data/features/in1k/simnreal/babel/train.pkl')\n",
    "p_pkl_target = Path('/data/hyogun/repos/haawron_mmaction2/data/features/in1k/simnreal/k400/train.pkl')\n",
    "\n",
    "pkl_source = np.array(np.load(p_pkl_source, allow_pickle=True))\n",
    "pkl_target = np.array(np.load(p_pkl_target, allow_pickle=True))\n",
    "pkl_source.shape, pkl_target.shape"
   ]
  },
  {
   "cell_type": "code",
   "execution_count": 4,
   "metadata": {},
   "outputs": [
    {
     "data": {
      "text/plain": [
       "((10176,), (23085,))"
      ]
     },
     "execution_count": 4,
     "metadata": {},
     "output_type": "execute_result"
    }
   ],
   "source": [
    "p_ann_source = Path('/data/hyogun/repos/haawron_mmaction2/data/_filelists/babel/processed/filelist_babel_train_open_all.txt')\n",
    "p_ann_target = Path('/data/hyogun/repos/haawron_mmaction2/data/_filelists/k400/processed/filelist_k400_train_open_all.txt')\n",
    "\n",
    "with p_ann_source.open() as f1, p_ann_target.open() as f2:\n",
    "    ann_source = np.array([int(line[-1]) for line in csv.reader(f1, delimiter=' ')])\n",
    "    ann_target = np.array([int(line[-1]) for line in csv.reader(f2, delimiter=' ')])\n",
    "ann_source.shape, ann_target.shape"
   ]
  },
  {
   "cell_type": "code",
   "execution_count": 19,
   "metadata": {},
   "outputs": [
    {
     "name": "stderr",
     "output_type": "stream",
     "text": [
      "/data/hyogun/repos/haawron_mmaction2/slurm/gcd4da/commons/semi_kmeans.py:69: RuntimeWarning: invalid value encountered in true_divide\n",
      "  sim = X @ Y.T / (norm_X * norm_Y)**.5\n",
      "/data/hyogun/repos/haawron_mmaction2/slurm/gcd4da/commons/semi_kmeans.py:69: RuntimeWarning: invalid value encountered in true_divide\n",
      "  sim = X @ Y.T / (norm_X * norm_Y)**.5\n",
      "/data/hyogun/repos/haawron_mmaction2/slurm/gcd4da/commons/semi_kmeans.py:69: RuntimeWarning: invalid value encountered in true_divide\n",
      "  sim = X @ Y.T / (norm_X * norm_Y)**.5\n"
     ]
    }
   ],
   "source": [
    "num_old_classes = 12\n",
    "kmeans = KMeans(autoinit=False, num_known_classes=num_old_classes)\n",
    "kmeans.Xs = {\n",
    "    'train_source': pkl_source[ann_source<num_old_classes],\n",
    "    'train_target': pkl_target,\n",
    "    'valid': pkl_target,\n",
    "    'test': pkl_target,\n",
    "}\n",
    "kmeans.anns = {\n",
    "    'train_source': ann_source[ann_source<num_old_classes],\n",
    "    'train_target': ann_target,\n",
    "    'valid': ann_target,\n",
    "    'test': ann_target,\n",
    "}\n",
    "kmeans.train() "
   ]
  },
  {
   "cell_type": "code",
   "execution_count": 42,
   "metadata": {},
   "outputs": [
    {
     "name": "stdout",
     "output_type": "stream",
     "text": [
      "ALL: 13.4\n",
      "Old: 16.1\n",
      "New:  8.5\n",
      "\n",
      "ALL:  8.5\n",
      "Old: 11.1\n",
      "New:  6.5\n",
      "\n",
      "[[ 239    0  127   78    0   59  139    0  249    0    0  182  167    0    0    0    0    0   82    0    0    0    0    0   49    0    0]\n",
      " [  20    0   39   16    0   63   25    0   67    0    0   95   72    0    0    0    0    0   30    0    0    0    0    0   23    0    0]\n",
      " [ 188    0  129  219    0  117  166    0  234    0    0  341  173    0    0    0    0    0  103    0    0    0    0    0   49    0    0]\n",
      " [  67    0   87  253    0  179   72    0  127    0    0  320  230    0    0    0    0    0   75    0    0    0    0    0   78    0    0]\n",
      " [  68    0   34   12    0   64   40    0   67    0    0   65   34    0    0    0    0    0   25    0    0    0    0    0    5    0    0]\n",
      " [ 246    0  111   38    0 1003  122    0  529    0    0  318  204    0    0    0    0    0   97    0    0    0    0    0   39    0    0]\n",
      " [ 202    0  134   48    0  116  180    0  204    0    0  240  222    0    0    0    0    0  206    0    0    0    0    0  175    0    0]\n",
      " [  58    0   73   12    0  132   26    0  120    0    0  295  126    0    0    0    0    0   30    0    0    0    0    0    8    0    0]\n",
      " [  82    0   95   23    0  419   61    0  226    0    0  257  183    0    0    0    0    0   34    0    0    0    0    0   26    0    0]\n",
      " [ 166    0   48   11    0  178   95    0  193    0    0  123   56    0    0    0    0    0   51    0    0    0    0    0    4    0    0]\n",
      " [  45    0   29   22    0  116   28    0   91    0    0   93   64    0    0    0    0    0   16    0    0    0    0    0    7    0    0]\n",
      " [  94    0  110   26    0  192   55    0  200    0    0  359  148    0    0    0    0    0   84    0    0    0    0    0   17    0    0]\n",
      " [  21    0  101   14    0   81   26    0   44    0    0  150  236    0    0    0    0    0   34    0    0    0    0    0   45    0    0]\n",
      " [  37    0   20   11    0   11   20    0   57    0    0   50   17    0    0    0    0    0    8    0    0    0    0    0    2    0    0]\n",
      " [  12    0   19    6    0   13   15    0   28    0    0   72   35    0    0    0    0    0   20    0    0    0    0    0   20    0    0]\n",
      " [ 116    0   30   19    0   33   57    0  134    0    0   60   24    0    0    0    0    0   11    0    0    0    0    0    1    0    0]\n",
      " [  11    0   38  162    0   79   25    0   31    0    0  131  104    0    0    0    0    0   37    0    0    0    0    0   21    0    0]\n",
      " [  87    0   91   23    0   89   59    0  122    0    0  152  118    0    0    0    0    0   56    0    0    0    0    0   46    0    0]\n",
      " [  53    0   67    7    0  286   44    0  117    0    0   90   62    0    0    0    0    0  183    0    0    0    0    0   15    0    0]\n",
      " [  93    0   47    9    0   27   67    0  101    0    0   73   58    0    0    0    0    0   74    0    0    0    0    0   13    0    0]\n",
      " [  97    0   55    2    0  121   66    0  156    0    0   83   71    0    0    0    0    0   21    0    0    0    0    0    3    0    0]\n",
      " [  61    0   60    3    0  165   35    0  134    0    0  122   76    0    0    0    0    0   31    0    0    0    0    0    8    0    0]\n",
      " [  21    0   20    3    0   33    9    0   53    0    0   29   27    0    0    0    0    0    7    0    0    0    0    0    2    0    0]\n",
      " [  35    0   29   16    0   61   32    0   67    0    0   76   38    0    0    0    0    0   39    0    0    0    0    0   16    0    0]\n",
      " [  11    0   34    9    0   10   18    0   13    0    0   24   66    0    0    0    0    0  140    0    0    0    0    0  278    0    0]\n",
      " [  81    0   32    3    0   52   53    0  101    0    0   44   40    0    0    0    0    0   18    0    0    0    0    0    6    0    0]\n",
      " [  64    0   35    6    0   72   47    0  122    0    0   79   48    0    0    0    0    0   26    0    0    0    0    0    9    0    0]]\n"
     ]
    }
   ],
   "source": [
    "pred_target = kmeans.predict(kmeans.model_best)['test']\n",
    "old_mask = (ann_target < num_old_classes)\n",
    "total_acc, old_acc, new_acc, conf = split_cluster_acc_v2(ann_target, pred_target, old_mask, True)\n",
    "log = inspect.cleandoc(f'''\n",
    "    ALL: {100*total_acc:4.1f}\n",
    "    Old: {100*old_acc:4.1f}\n",
    "    New: {100*new_acc:4.1f}\n",
    "''') + '\\n\\n'\n",
    "total_acc, old_acc, new_acc = split_cluster_acc_v2_balanced(ann_target, pred_target, old_mask)\n",
    "log += inspect.cleandoc(f'''\n",
    "    ALL: {100*total_acc:4.1f}\n",
    "    Old: {100*old_acc:4.1f}\n",
    "    New: {100*new_acc:4.1f}\n",
    "''') + '\\n'\n",
    "print(log)\n",
    "with np.printoptions(linewidth=1000, threshold=1000):\n",
    "    print(conf)"
   ]
  }
 ],
 "metadata": {
  "kernelspec": {
   "display_name": "open-mmlab",
   "language": "python",
   "name": "python3"
  },
  "language_info": {
   "codemirror_mode": {
    "name": "ipython",
    "version": 3
   },
   "file_extension": ".py",
   "mimetype": "text/x-python",
   "name": "python",
   "nbconvert_exporter": "python",
   "pygments_lexer": "ipython3",
   "version": "3.7.11"
  },
  "orig_nbformat": 4,
  "vscode": {
   "interpreter": {
    "hash": "5bffa9bf2f09109ed8eb2df7a7ed69cac97689136798a3d627c1002bd814088d"
   }
  }
 },
 "nbformat": 4,
 "nbformat_minor": 2
}
