{
 "cells": [
  {
   "cell_type": "code",
   "execution_count": 95,
   "id": "be699f33",
   "metadata": {},
   "outputs": [
    {
     "data": {
      "text/plain": [
       "'/data/hyogun/repos/haawron_mmaction2'"
      ]
     },
     "execution_count": 95,
     "metadata": {},
     "output_type": "execute_result"
    }
   ],
   "source": [
    "import numpy as np\n",
    "import torch\n",
    "import torch.nn as nn\n",
    "from mmaction.apis import init_recognizer\n",
    "from mmaction.datasets import build_dataset, build_dataloader\n",
    "\n",
    "from sklearn.preprocessing import StandardScaler\n",
    "from sklearn.decomposition import PCA\n",
    "from sklearn import svm\n",
    "import matplotlib.pyplot as plt\n",
    "\n",
    "import psutil\n",
    "import os\n",
    "if not os.getcwd().endswith('mmaction2'):\n",
    "    os.chdir('..')\n",
    "os.getcwd()"
   ]
  },
  {
   "cell_type": "code",
   "execution_count": 3,
   "id": "3902d3cc",
   "metadata": {},
   "outputs": [
    {
     "name": "stdout",
     "output_type": "stream",
     "text": [
      "Use load_from_local loader\n"
     ]
    },
    {
     "data": {
      "text/plain": [
       "(False, True)"
      ]
     },
     "execution_count": 3,
     "metadata": {},
     "output_type": "execute_result"
    }
   ],
   "source": [
    "config = 'work_dirs/train_output/ek100/tsm/vanilla/P02/source-only/16279__vanilla_tsm_P02_source-only/0/20220326-202754/vanilla_tsm_ek100.py'\n",
    "checkpoint = 'work_dirs/train_output/ek100/tsm/vanilla/P02/source-only/16279__vanilla_tsm_P02_source-only/0/20220326-202754/epoch_50.pth'\n",
    "model = init_recognizer(config, checkpoint, device='cuda')\n",
    "\n",
    "cfg = model.cfg\n",
    "model.training, next(model.parameters()).is_cuda"
   ]
  },
  {
   "cell_type": "code",
   "execution_count": 4,
   "id": "fd1d787c",
   "metadata": {},
   "outputs": [],
   "source": [
    "from mmaction.core import OutputHook\n",
    "\n",
    "def get_scores_and_features(model, x):\n",
    "    outputs = ['backbone']\n",
    "    with OutputHook(model, outputs=outputs, as_tensor=True) as h:\n",
    "        with torch.no_grad():\n",
    "            scores = model(x.cuda(), return_loss=False)[0]\n",
    "        returned_features = h.layer_outputs if outputs else None\n",
    "    consensus = gap_and_consensus(model, returned_features['backbone'])\n",
    "    return scores, consensus\n",
    "\n",
    "gap = nn.AdaptiveAvgPool2d(1)\n",
    "def gap_and_consensus(model, backbone_output):\n",
    "    if model.cls_head.is_shift and model.cls_head.temporal_pool:\n",
    "        # [2 * N, num_segs // 2, num_classes]\n",
    "        feature = backbone_output.view((-1, model.cls_head.num_segments // 2) + backbone_output.size()[1:])\n",
    "    else:\n",
    "        # [N, num_segs, num_classes]\n",
    "        feature = backbone_output.view((-1, model.cls_head.num_segments) + backbone_output.size()[1:])\n",
    "    consensus = gap(feature.mean(dim=1)).squeeze() \n",
    "    return consensus"
   ]
  },
  {
   "cell_type": "code",
   "execution_count": 55,
   "id": "5c793ade",
   "metadata": {},
   "outputs": [],
   "source": [
    "def get_whole_dataset(dataloader):\n",
    "    svm_inputs = {'scores': [], 'features': [], 'labels': []}\n",
    "    for i, batch in enumerate(dataloader):\n",
    "        if i % 10 == 9:\n",
    "            print(f'{i+1:4d}/{len(dataloader)}...', end=' ')\n",
    "            print(f'Currently occupying {psutil.Process(os.getpid()).memory_info().rss / 1024**3:.3f} GiB')\n",
    "        imgs, labels = batch['imgs'], batch['label']\n",
    "        scores, features = get_scores_and_features(model, imgs)\n",
    "        svm_inputs['scores'].append(scores)\n",
    "        svm_inputs['features'].append(features.cpu().numpy())\n",
    "        svm_inputs['labels'].append(labels)\n",
    "    svm_inputs['scores'] = np.concatenate(svm_inputs['scores'])\n",
    "    svm_inputs['features'] = np.concatenate(svm_inputs['features'])\n",
    "    svm_inputs['labels'] = np.concatenate(svm_inputs['labels'])\n",
    "    print('done')\n",
    "    return svm_inputs"
   ]
  },
  {
   "cell_type": "code",
   "execution_count": 8,
   "id": "39a35082",
   "metadata": {
    "scrolled": false
   },
   "outputs": [],
   "source": [
    "dataset_setting = cfg.data.train\n",
    "dataloader_setting = dict(\n",
    "    videos_per_gpu=cfg.data.get('videos_per_gpu', 1),\n",
    "    workers_per_gpu=cfg.data.get('workers_per_gpu', 1),\n",
    "    persistent_workers=cfg.data.get('persistent_workers', False),\n",
    "    num_gpus=1,\n",
    "    dist=False,\n",
    "    seed=999,\n",
    "    **cfg.data.get('test_dataloader', {})\n",
    ")\n",
    "\n",
    "dataset = build_dataset(dataset_setting)\n",
    "dataloader = build_dataloader(dataset, **dataloader_setting)"
   ]
  },
  {
   "cell_type": "code",
   "execution_count": 61,
   "id": "b60a613f",
   "metadata": {},
   "outputs": [],
   "source": [
    "cfg.data.test.ann_file = 'data/epic-kitchens-100/filelist_P02_test_open.txt'\n",
    "test_dataset_setting = cfg.data.test\n",
    "test_dataloader_setting = dict(\n",
    "    videos_per_gpu=cfg.data.get('videos_per_gpu', 1),\n",
    "    workers_per_gpu=cfg.data.get('workers_per_gpu', 1),\n",
    "    persistent_workers=cfg.data.get('persistent_workers', False),\n",
    "    num_gpus=1,\n",
    "    dist=False,\n",
    "    seed=999,\n",
    "    **cfg.data.get('test_dataloader', {})\n",
    ")\n",
    "\n",
    "test_dataset = build_dataset(test_dataset_setting)\n",
    "test_dataloader = build_dataloader(test_dataset, **test_dataloader_setting)"
   ]
  },
  {
   "cell_type": "code",
   "execution_count": 62,
   "id": "839f1ce1",
   "metadata": {
    "scrolled": true
   },
   "outputs": [
    {
     "name": "stdout",
     "output_type": "stream",
     "text": [
      "  10/118... Currently occupying 9.518 GiB\n",
      "  20/118... Currently occupying 9.518 GiB\n",
      "  30/118... Currently occupying 9.518 GiB\n",
      "  40/118... Currently occupying 9.518 GiB\n",
      "  50/118... Currently occupying 9.518 GiB\n",
      "  60/118... Currently occupying 9.518 GiB\n",
      "  70/118... Currently occupying 9.518 GiB\n",
      "  80/118... Currently occupying 9.518 GiB\n",
      "  90/118... Currently occupying 9.518 GiB\n",
      " 100/118... Currently occupying 9.518 GiB\n",
      " 110/118... Currently occupying 9.518 GiB\n",
      "done\n"
     ]
    }
   ],
   "source": [
    "svm_train_inputs = get_whole_dataset(dataloader)"
   ]
  },
  {
   "cell_type": "code",
   "execution_count": null,
   "id": "b982ca01",
   "metadata": {},
   "outputs": [],
   "source": [
    "svm_test_inputs = get_whole_dataset(test_dataloader)"
   ]
  },
  {
   "cell_type": "code",
   "execution_count": 76,
   "id": "309db652",
   "metadata": {},
   "outputs": [
    {
     "data": {
      "text/plain": [
       "((2816, 2048), (666, 2048))"
      ]
     },
     "execution_count": 76,
     "metadata": {},
     "output_type": "execute_result"
    }
   ],
   "source": [
    "X_train = svm_train_inputs['features']\n",
    "X_test = svm_test_inputs['features']\n",
    "X_train.shape, X_test.shape"
   ]
  },
  {
   "cell_type": "code",
   "execution_count": 71,
   "id": "8f1a6a73",
   "metadata": {},
   "outputs": [
    {
     "name": "stdout",
     "output_type": "stream",
     "text": [
      "Explained variance percentage = 0.97\n"
     ]
    }
   ],
   "source": [
    "ss = StandardScaler()\n",
    "ss.fit(X_train)\n",
    "X_train_ss = ss.transform(X_train)\n",
    "\n",
    "pca = PCA(n_components=512, whiten=True)\n",
    "pca = pca.fit(X_train_ss)\n",
    "print('Explained variance percentage = %0.2f' % sum(pca.explained_variance_ratio_))\n",
    "X_train_pca = pca.transform(X_train_ss)"
   ]
  },
  {
   "cell_type": "code",
   "execution_count": 73,
   "id": "2ed55d5a",
   "metadata": {},
   "outputs": [
    {
     "name": "stdout",
     "output_type": "stream",
     "text": [
      "0/5 ...\n",
      "1/5 ...\n",
      "2/5 ...\n",
      "3/5 ...\n",
      "4/5 ...\n"
     ]
    }
   ],
   "source": [
    "num_classes = cfg.num_classes\n",
    "\n",
    "osvms = []\n",
    "for c in range(num_classes):\n",
    "    print(f'{c+1}/{num_classes} ...')\n",
    "    class_mask = svm_train_inputs['labels'].squeeze() == c\n",
    "    X_train_pca_class = X_train_pca[class_mask]\n",
    "    osvm = svm.OneClassSVM(gamma=0.001, kernel='rbf', nu=0.08)\n",
    "    osvm.fit(X_train_pca_class)\n",
    "    osvms.append(osvm)"
   ]
  },
  {
   "cell_type": "code",
   "execution_count": 114,
   "id": "f6b6b25b",
   "metadata": {},
   "outputs": [],
   "source": [
    "X_test_ss = ss.transform(X_test)\n",
    "X_test_pca = pca.transform(X_test_ss)\n",
    "preds = []\n",
    "for osvm in osvms:\n",
    "    pred = osvm.score_samples(X_test_pca)\n",
    "    preds.append((pred - pred.mean()) / pred.std())  # normalized"
   ]
  },
  {
   "cell_type": "code",
   "execution_count": 129,
   "id": "738ddd63",
   "metadata": {
    "scrolled": false
   },
   "outputs": [
    {
     "name": "stdout",
     "output_type": "stream",
     "text": [
      "666\n",
      "29.9\n"
     ]
    }
   ],
   "source": [
    "N = X_test.shape[0]\n",
    "print(N)\n",
    "\n",
    "results = []\n",
    "for pred, y in zip(zip(*preds), svm_test_inputs['labels']):\n",
    "    pred = np.array(pred)\n",
    "    y_ = np.argmax(pred)\n",
    "    y_ = y_ if pred[y_] > 0 else num_classes\n",
    "    results.append(y_ == y)\n",
    "acc = np.array(results).mean() \n",
    "print(f'{100*acc:.1f}')"
   ]
  },
  {
   "cell_type": "code",
   "execution_count": 119,
   "id": "7987eff6",
   "metadata": {},
   "outputs": [
    {
     "data": {
      "image/png": "[encoded data removed]",
      "text/plain": [
       "<Figure size 720x576 with 1 Axes>"
      ]
     },
     "metadata": {
      "needs_background": "light"
     },
     "output_type": "display_data"
    }
   ],
   "source": [
    "plt.figure(figsize=(10, 8))\n",
    "for c, pred in enumerate(preds):\n",
    "    plt.hist(pred[svm_test_inputs['labels'] == 5], bins=30, density=False, alpha=.3, label=f'{c}')\n",
    "plt.legend() \n",
    "plt.show() "
   ]
  },
  {
   "cell_type": "code",
   "execution_count": 120,
   "id": "c5eb93ee",
   "metadata": {},
   "outputs": [
    {
     "data": {
      "image/png": "[encoded data removed]",
      "text/plain": [
       "<Figure size 720x576 with 1 Axes>"
      ]
     },
     "metadata": {
      "needs_background": "light"
     },
     "output_type": "display_data"
    }
   ],
   "source": [
    "plt.figure(figsize=(10, 8))\n",
    "for c, pred in enumerate(preds):\n",
    "    plt.hist(pred, bins=30, density=False, alpha=.3, label=f'{c}')\n",
    "plt.legend() \n",
    "plt.show() "
   ]
  },
  {
   "cell_type": "code",
   "execution_count": null,
   "id": "0b649515",
   "metadata": {},
   "outputs": [],
   "source": []
  }
 ],
 "metadata": {
  "kernelspec": {
   "display_name": "Open-MMLab",
   "language": "python",
   "name": "open-mmlab"
  },
  "language_info": {
   "codemirror_mode": {
    "name": "ipython",
    "version": 3
   },
   "file_extension": ".py",
   "mimetype": "text/x-python",
   "name": "python",
   "nbconvert_exporter": "python",
   "pygments_lexer": "ipython3",
   "version": "3.7.11"
  }
 },
 "nbformat": 4,
 "nbformat_minor": 5
}
