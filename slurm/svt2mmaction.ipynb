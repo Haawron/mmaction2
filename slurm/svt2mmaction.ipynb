{
 "cells": [
  {
   "cell_type": "code",
   "execution_count": 2,
   "metadata": {},
   "outputs": [],
   "source": [
    "import torch\n",
    "import re"
   ]
  },
  {
   "cell_type": "code",
   "execution_count": 9,
   "metadata": {},
   "outputs": [],
   "source": [
    "pth_source = torch.load(r'/data/hyogun/repos/haawron_mmaction2/data/weights/svt/releases/download/v1.0/kinetics400_vitb_ssl.pth')\n",
    "pth_ref = torch.load(r'/data/hyogun/repos/haawron_mmaction2/data/weights/timesformer/timesformer_divST_8x32x1_15e_kinetics400_rgb-3f8e5d03.pth.1')"
   ]
  },
  {
   "cell_type": "code",
   "execution_count": 5,
   "metadata": {},
   "outputs": [
    {
     "data": {
      "text/plain": [
       "dict_keys(['meta', 'state_dict'])"
      ]
     },
     "execution_count": 5,
     "metadata": {},
     "output_type": "execute_result"
    }
   ],
   "source": [
    "pth_ref.keys() "
   ]
  },
  {
   "cell_type": "code",
   "execution_count": 8,
   "metadata": {},
   "outputs": [
    {
     "data": {
      "text/plain": [
       "tensor(False)"
      ]
     },
     "execution_count": 8,
     "metadata": {},
     "output_type": "execute_result"
    }
   ],
   "source": [
    "(pth_ref[\"state_dict\"]['backbone.cls_token'] == pth_source['backbone.cls_token']).all() "
   ]
  },
  {
   "cell_type": "code",
   "execution_count": null,
   "metadata": {},
   "outputs": [
    {
     "name": "stdout",
     "output_type": "stream",
     "text": [
      "  0  backbone.cls_token                                                               (1, 1, 768)     \t(1, 1, 768)        0  backbone.cls_token                                           \n",
      "  1  backbone.pos_embed                                                               (1, 197, 768)   \t(1, 197, 768)      1  backbone.pos_embed                                           \n",
      "  2  backbone.time_embed                                                              (1, 8, 768)     \t(1, 8, 768)        2  backbone.time_embed                                          \n",
      "  3  backbone.patch_embed.projection.weight                                           (768, 3, 16, 16)\t(768, 3, 16, 16)   3  backbone.patch_embed.proj.weight                             \n",
      "  4  backbone.patch_embed.projection.bias                                             (768,)          \t(768,)             4  backbone.patch_embed.proj.bias                               \n",
      "  5  backbone.norm.weight                                                             (768,)          \t(768,)             5  backbone.blocks.0.norm1.weight                               \n",
      "  6  backbone.norm.bias                                                               (768,)          \t(768,)             6  backbone.blocks.0.norm1.bias                                 \n",
      "  7  backbone.transformer_layers.layers.0.attentions.0.attn.in_proj_weight            (2304, 768)     \t(2304, 768)        7  backbone.blocks.0.attn.qkv.weight                            \n",
      "  8  backbone.transformer_layers.layers.0.attentions.0.attn.in_proj_bias              (2304,)         \t(2304,)            8  backbone.blocks.0.attn.qkv.bias                              \n",
      "  9  backbone.transformer_layers.layers.0.attentions.0.attn.out_proj.weight           (768, 768)      \t(768, 768)         9  backbone.blocks.0.attn.proj.weight                           \n",
      " 10  backbone.transformer_layers.layers.0.attentions.0.attn.out_proj.bias             (768,)          \t(768,)            10  backbone.blocks.0.attn.proj.bias                             \n",
      " 11  backbone.transformer_layers.layers.0.attentions.0.norm.weight                    (768,)          \t(768,)            11  backbone.blocks.0.temporal_norm1.weight                      \n",
      " 12  backbone.transformer_layers.layers.0.attentions.0.norm.bias                      (768,)          \t(768,)            12  backbone.blocks.0.temporal_norm1.bias                        \n",
      " 13  backbone.transformer_layers.layers.0.attentions.0.temporal_fc.weight             (768, 768)      \t(2304, 768)       13  backbone.blocks.0.temporal_attn.qkv.weight                   \n",
      " 14  backbone.transformer_layers.layers.0.attentions.0.temporal_fc.bias               (768,)          \t(2304,)           14  backbone.blocks.0.temporal_attn.qkv.bias                     \n",
      " 15  backbone.transformer_layers.layers.0.attentions.1.attn.in_proj_weight            (2304, 768)     \t(768, 768)        15  backbone.blocks.0.temporal_attn.proj.weight                  \n",
      " 16  backbone.transformer_layers.layers.0.attentions.1.attn.in_proj_bias              (2304,)         \t(768,)            16  backbone.blocks.0.temporal_attn.proj.bias                    \n",
      " 17  backbone.transformer_layers.layers.0.attentions.1.attn.out_proj.weight           (768, 768)      \t(768, 768)        17  backbone.blocks.0.temporal_fc.weight                         \n",
      " 18  backbone.transformer_layers.layers.0.attentions.1.attn.out_proj.bias             (768,)          \t(768,)            18  backbone.blocks.0.temporal_fc.bias                           \n",
      " 19  backbone.transformer_layers.layers.0.attentions.1.norm.weight                    (768,)          \t(768,)            19  backbone.blocks.0.norm2.weight                               \n",
      " 20  backbone.transformer_layers.layers.0.attentions.1.norm.bias                      (768,)          \t(768,)            20  backbone.blocks.0.norm2.bias                                 \n",
      " 21  backbone.transformer_layers.layers.0.ffns.0.layers.0.0.weight                    (3072, 768)     \t(3072, 768)       21  backbone.blocks.0.mlp.fc1.weight                             \n",
      " 22  backbone.transformer_layers.layers.0.ffns.0.layers.0.0.bias                      (3072,)         \t(3072,)           22  backbone.blocks.0.mlp.fc1.bias                               \n",
      " 23  backbone.transformer_layers.layers.0.ffns.0.layers.1.weight                      (768, 3072)     \t(768, 3072)       23  backbone.blocks.0.mlp.fc2.weight                             \n",
      " 24  backbone.transformer_layers.layers.0.ffns.0.layers.1.bias                        (768,)          \t(768,)            24  backbone.blocks.0.mlp.fc2.bias                               \n",
      " 25  backbone.transformer_layers.layers.0.ffns.0.norm.weight                          (768,)          \t(768,)            25  backbone.blocks.1.norm1.weight                               \n",
      " 26  backbone.transformer_layers.layers.0.ffns.0.norm.bias                            (768,)          \t(768,)            26  backbone.blocks.1.norm1.bias                                 \n",
      " 27  backbone.transformer_layers.layers.1.attentions.0.attn.in_proj_weight            (2304, 768)     \t(2304, 768)       27  backbone.blocks.1.attn.qkv.weight                            \n",
      " 28  backbone.transformer_layers.layers.1.attentions.0.attn.in_proj_bias              (2304,)         \t(2304,)           28  backbone.blocks.1.attn.qkv.bias                              \n",
      " 29  backbone.transformer_layers.layers.1.attentions.0.attn.out_proj.weight           (768, 768)      \t(768, 768)        29  backbone.blocks.1.attn.proj.weight                           \n",
      " 30  backbone.transformer_layers.layers.1.attentions.0.attn.out_proj.bias             (768,)          \t(768,)            30  backbone.blocks.1.attn.proj.bias                             \n",
      " 31  backbone.transformer_layers.layers.1.attentions.0.norm.weight                    (768,)          \t(768,)            31  backbone.blocks.1.temporal_norm1.weight                      \n",
      " 32  backbone.transformer_layers.layers.1.attentions.0.norm.bias                      (768,)          \t(768,)            32  backbone.blocks.1.temporal_norm1.bias                        \n",
      " 33  backbone.transformer_layers.layers.1.attentions.0.temporal_fc.weight             (768, 768)      \t(2304, 768)       33  backbone.blocks.1.temporal_attn.qkv.weight                   \n",
      " 34  backbone.transformer_layers.layers.1.attentions.0.temporal_fc.bias               (768,)          \t(2304,)           34  backbone.blocks.1.temporal_attn.qkv.bias                     \n",
      " 35  backbone.transformer_layers.layers.1.attentions.1.attn.in_proj_weight            (2304, 768)     \t(768, 768)        35  backbone.blocks.1.temporal_attn.proj.weight                  \n",
      " 36  backbone.transformer_layers.layers.1.attentions.1.attn.in_proj_bias              (2304,)         \t(768,)            36  backbone.blocks.1.temporal_attn.proj.bias                    \n",
      " 37  backbone.transformer_layers.layers.1.attentions.1.attn.out_proj.weight           (768, 768)      \t(768, 768)        37  backbone.blocks.1.temporal_fc.weight                         \n",
      " 38  backbone.transformer_layers.layers.1.attentions.1.attn.out_proj.bias             (768,)          \t(768,)            38  backbone.blocks.1.temporal_fc.bias                           \n",
      " 39  backbone.transformer_layers.layers.1.attentions.1.norm.weight                    (768,)          \t(768,)            39  backbone.blocks.1.norm2.weight                               \n",
      " 40  backbone.transformer_layers.layers.1.attentions.1.norm.bias                      (768,)          \t(768,)            40  backbone.blocks.1.norm2.bias                                 \n",
      " 41  backbone.transformer_layers.layers.1.ffns.0.layers.0.0.weight                    (3072, 768)     \t(3072, 768)       41  backbone.blocks.1.mlp.fc1.weight                             \n",
      " 42  backbone.transformer_layers.layers.1.ffns.0.layers.0.0.bias                      (3072,)         \t(3072,)           42  backbone.blocks.1.mlp.fc1.bias                               \n",
      " 43  backbone.transformer_layers.layers.1.ffns.0.layers.1.weight                      (768, 3072)     \t(768, 3072)       43  backbone.blocks.1.mlp.fc2.weight                             \n",
      " 44  backbone.transformer_layers.layers.1.ffns.0.layers.1.bias                        (768,)          \t(768,)            44  backbone.blocks.1.mlp.fc2.bias                               \n",
      " 45  backbone.transformer_layers.layers.1.ffns.0.norm.weight                          (768,)          \t(768,)            45  backbone.blocks.2.norm1.weight                               \n",
      " 46  backbone.transformer_layers.layers.1.ffns.0.norm.bias                            (768,)          \t(768,)            46  backbone.blocks.2.norm1.bias                                 \n",
      " 47  backbone.transformer_layers.layers.2.attentions.0.attn.in_proj_weight            (2304, 768)     \t(2304, 768)       47  backbone.blocks.2.attn.qkv.weight                            \n",
      " 48  backbone.transformer_layers.layers.2.attentions.0.attn.in_proj_bias              (2304,)         \t(2304,)           48  backbone.blocks.2.attn.qkv.bias                              \n",
      " 49  backbone.transformer_layers.layers.2.attentions.0.attn.out_proj.weight           (768, 768)      \t(768, 768)        49  backbone.blocks.2.attn.proj.weight                           \n",
      " 50  backbone.transformer_layers.layers.2.attentions.0.attn.out_proj.bias             (768,)          \t(768,)            50  backbone.blocks.2.attn.proj.bias                             \n",
      " 51  backbone.transformer_layers.layers.2.attentions.0.norm.weight                    (768,)          \t(768,)            51  backbone.blocks.2.temporal_norm1.weight                      \n",
      " 52  backbone.transformer_layers.layers.2.attentions.0.norm.bias                      (768,)          \t(768,)            52  backbone.blocks.2.temporal_norm1.bias                        \n",
      " 53  backbone.transformer_layers.layers.2.attentions.0.temporal_fc.weight             (768, 768)      \t(2304, 768)       53  backbone.blocks.2.temporal_attn.qkv.weight                   \n",
      " 54  backbone.transformer_layers.layers.2.attentions.0.temporal_fc.bias               (768,)          \t(2304,)           54  backbone.blocks.2.temporal_attn.qkv.bias                     \n",
      " 55  backbone.transformer_layers.layers.2.attentions.1.attn.in_proj_weight            (2304, 768)     \t(768, 768)        55  backbone.blocks.2.temporal_attn.proj.weight                  \n",
      " 56  backbone.transformer_layers.layers.2.attentions.1.attn.in_proj_bias              (2304,)         \t(768,)            56  backbone.blocks.2.temporal_attn.proj.bias                    \n",
      " 57  backbone.transformer_layers.layers.2.attentions.1.attn.out_proj.weight           (768, 768)      \t(768, 768)        57  backbone.blocks.2.temporal_fc.weight                         \n",
      " 58  backbone.transformer_layers.layers.2.attentions.1.attn.out_proj.bias             (768,)          \t(768,)            58  backbone.blocks.2.temporal_fc.bias                           \n",
      " 59  backbone.transformer_layers.layers.2.attentions.1.norm.weight                    (768,)          \t(768,)            59  backbone.blocks.2.norm2.weight                               \n",
      " 60  backbone.transformer_layers.layers.2.attentions.1.norm.bias                      (768,)          \t(768,)            60  backbone.blocks.2.norm2.bias                                 \n",
      " 61  backbone.transformer_layers.layers.2.ffns.0.layers.0.0.weight                    (3072, 768)     \t(3072, 768)       61  backbone.blocks.2.mlp.fc1.weight                             \n",
      " 62  backbone.transformer_layers.layers.2.ffns.0.layers.0.0.bias                      (3072,)         \t(3072,)           62  backbone.blocks.2.mlp.fc1.bias                               \n",
      " 63  backbone.transformer_layers.layers.2.ffns.0.layers.1.weight                      (768, 3072)     \t(768, 3072)       63  backbone.blocks.2.mlp.fc2.weight                             \n",
      " 64  backbone.transformer_layers.layers.2.ffns.0.layers.1.bias                        (768,)          \t(768,)            64  backbone.blocks.2.mlp.fc2.bias                               \n",
      " 65  backbone.transformer_layers.layers.2.ffns.0.norm.weight                          (768,)          \t(768,)            65  backbone.blocks.3.norm1.weight                               \n",
      " 66  backbone.transformer_layers.layers.2.ffns.0.norm.bias                            (768,)          \t(768,)            66  backbone.blocks.3.norm1.bias                                 \n",
      " 67  backbone.transformer_layers.layers.3.attentions.0.attn.in_proj_weight            (2304, 768)     \t(2304, 768)       67  backbone.blocks.3.attn.qkv.weight                            \n",
      " 68  backbone.transformer_layers.layers.3.attentions.0.attn.in_proj_bias              (2304,)         \t(2304,)           68  backbone.blocks.3.attn.qkv.bias                              \n",
      " 69  backbone.transformer_layers.layers.3.attentions.0.attn.out_proj.weight           (768, 768)      \t(768, 768)        69  backbone.blocks.3.attn.proj.weight                           \n",
      " 70  backbone.transformer_layers.layers.3.attentions.0.attn.out_proj.bias             (768,)          \t(768,)            70  backbone.blocks.3.attn.proj.bias                             \n",
      " 71  backbone.transformer_layers.layers.3.attentions.0.norm.weight                    (768,)          \t(768,)            71  backbone.blocks.3.temporal_norm1.weight                      \n",
      " 72  backbone.transformer_layers.layers.3.attentions.0.norm.bias                      (768,)          \t(768,)            72  backbone.blocks.3.temporal_norm1.bias                        \n",
      " 73  backbone.transformer_layers.layers.3.attentions.0.temporal_fc.weight             (768, 768)      \t(2304, 768)       73  backbone.blocks.3.temporal_attn.qkv.weight                   \n",
      " 74  backbone.transformer_layers.layers.3.attentions.0.temporal_fc.bias               (768,)          \t(2304,)           74  backbone.blocks.3.temporal_attn.qkv.bias                     \n",
      " 75  backbone.transformer_layers.layers.3.attentions.1.attn.in_proj_weight            (2304, 768)     \t(768, 768)        75  backbone.blocks.3.temporal_attn.proj.weight                  \n",
      " 76  backbone.transformer_layers.layers.3.attentions.1.attn.in_proj_bias              (2304,)         \t(768,)            76  backbone.blocks.3.temporal_attn.proj.bias                    \n",
      " 77  backbone.transformer_layers.layers.3.attentions.1.attn.out_proj.weight           (768, 768)      \t(768, 768)        77  backbone.blocks.3.temporal_fc.weight                         \n",
      " 78  backbone.transformer_layers.layers.3.attentions.1.attn.out_proj.bias             (768,)          \t(768,)            78  backbone.blocks.3.temporal_fc.bias                           \n",
      " 79  backbone.transformer_layers.layers.3.attentions.1.norm.weight                    (768,)          \t(768,)            79  backbone.blocks.3.norm2.weight                               \n",
      " 80  backbone.transformer_layers.layers.3.attentions.1.norm.bias                      (768,)          \t(768,)            80  backbone.blocks.3.norm2.bias                                 \n",
      " 81  backbone.transformer_layers.layers.3.ffns.0.layers.0.0.weight                    (3072, 768)     \t(3072, 768)       81  backbone.blocks.3.mlp.fc1.weight                             \n",
      " 82  backbone.transformer_layers.layers.3.ffns.0.layers.0.0.bias                      (3072,)         \t(3072,)           82  backbone.blocks.3.mlp.fc1.bias                               \n",
      " 83  backbone.transformer_layers.layers.3.ffns.0.layers.1.weight                      (768, 3072)     \t(768, 3072)       83  backbone.blocks.3.mlp.fc2.weight                             \n",
      " 84  backbone.transformer_layers.layers.3.ffns.0.layers.1.bias                        (768,)          \t(768,)            84  backbone.blocks.3.mlp.fc2.bias                               \n",
      " 85  backbone.transformer_layers.layers.3.ffns.0.norm.weight                          (768,)          \t(768,)            85  backbone.blocks.4.norm1.weight                               \n",
      " 86  backbone.transformer_layers.layers.3.ffns.0.norm.bias                            (768,)          \t(768,)            86  backbone.blocks.4.norm1.bias                                 \n",
      " 87  backbone.transformer_layers.layers.4.attentions.0.attn.in_proj_weight            (2304, 768)     \t(2304, 768)       87  backbone.blocks.4.attn.qkv.weight                            \n",
      " 88  backbone.transformer_layers.layers.4.attentions.0.attn.in_proj_bias              (2304,)         \t(2304,)           88  backbone.blocks.4.attn.qkv.bias                              \n",
      " 89  backbone.transformer_layers.layers.4.attentions.0.attn.out_proj.weight           (768, 768)      \t(768, 768)        89  backbone.blocks.4.attn.proj.weight                           \n",
      " 90  backbone.transformer_layers.layers.4.attentions.0.attn.out_proj.bias             (768,)          \t(768,)            90  backbone.blocks.4.attn.proj.bias                             \n",
      " 91  backbone.transformer_layers.layers.4.attentions.0.norm.weight                    (768,)          \t(768,)            91  backbone.blocks.4.temporal_norm1.weight                      \n",
      " 92  backbone.transformer_layers.layers.4.attentions.0.norm.bias                      (768,)          \t(768,)            92  backbone.blocks.4.temporal_norm1.bias                        \n",
      " 93  backbone.transformer_layers.layers.4.attentions.0.temporal_fc.weight             (768, 768)      \t(2304, 768)       93  backbone.blocks.4.temporal_attn.qkv.weight                   \n",
      " 94  backbone.transformer_layers.layers.4.attentions.0.temporal_fc.bias               (768,)          \t(2304,)           94  backbone.blocks.4.temporal_attn.qkv.bias                     \n",
      " 95  backbone.transformer_layers.layers.4.attentions.1.attn.in_proj_weight            (2304, 768)     \t(768, 768)        95  backbone.blocks.4.temporal_attn.proj.weight                  \n",
      " 96  backbone.transformer_layers.layers.4.attentions.1.attn.in_proj_bias              (2304,)         \t(768,)            96  backbone.blocks.4.temporal_attn.proj.bias                    \n",
      " 97  backbone.transformer_layers.layers.4.attentions.1.attn.out_proj.weight           (768, 768)      \t(768, 768)        97  backbone.blocks.4.temporal_fc.weight                         \n",
      " 98  backbone.transformer_layers.layers.4.attentions.1.attn.out_proj.bias             (768,)          \t(768,)            98  backbone.blocks.4.temporal_fc.bias                           \n",
      " 99  backbone.transformer_layers.layers.4.attentions.1.norm.weight                    (768,)          \t(768,)            99  backbone.blocks.4.norm2.weight                               \n",
      "100  backbone.transformer_layers.layers.4.attentions.1.norm.bias                      (768,)          \t(768,)           100  backbone.blocks.4.norm2.bias                                 \n",
      "101  backbone.transformer_layers.layers.4.ffns.0.layers.0.0.weight                    (3072, 768)     \t(3072, 768)      101  backbone.blocks.4.mlp.fc1.weight                             \n",
      "102  backbone.transformer_layers.layers.4.ffns.0.layers.0.0.bias                      (3072,)         \t(3072,)          102  backbone.blocks.4.mlp.fc1.bias                               \n",
      "103  backbone.transformer_layers.layers.4.ffns.0.layers.1.weight                      (768, 3072)     \t(768, 3072)      103  backbone.blocks.4.mlp.fc2.weight                             \n",
      "104  backbone.transformer_layers.layers.4.ffns.0.layers.1.bias                        (768,)          \t(768,)           104  backbone.blocks.4.mlp.fc2.bias                               \n",
      "105  backbone.transformer_layers.layers.4.ffns.0.norm.weight                          (768,)          \t(768,)           105  backbone.blocks.5.norm1.weight                               \n",
      "106  backbone.transformer_layers.layers.4.ffns.0.norm.bias                            (768,)          \t(768,)           106  backbone.blocks.5.norm1.bias                                 \n",
      "107  backbone.transformer_layers.layers.5.attentions.0.attn.in_proj_weight            (2304, 768)     \t(2304, 768)      107  backbone.blocks.5.attn.qkv.weight                            \n",
      "108  backbone.transformer_layers.layers.5.attentions.0.attn.in_proj_bias              (2304,)         \t(2304,)          108  backbone.blocks.5.attn.qkv.bias                              \n",
      "109  backbone.transformer_layers.layers.5.attentions.0.attn.out_proj.weight           (768, 768)      \t(768, 768)       109  backbone.blocks.5.attn.proj.weight                           \n",
      "110  backbone.transformer_layers.layers.5.attentions.0.attn.out_proj.bias             (768,)          \t(768,)           110  backbone.blocks.5.attn.proj.bias                             \n",
      "111  backbone.transformer_layers.layers.5.attentions.0.norm.weight                    (768,)          \t(768,)           111  backbone.blocks.5.temporal_norm1.weight                      \n",
      "112  backbone.transformer_layers.layers.5.attentions.0.norm.bias                      (768,)          \t(768,)           112  backbone.blocks.5.temporal_norm1.bias                        \n",
      "113  backbone.transformer_layers.layers.5.attentions.0.temporal_fc.weight             (768, 768)      \t(2304, 768)      113  backbone.blocks.5.temporal_attn.qkv.weight                   \n",
      "114  backbone.transformer_layers.layers.5.attentions.0.temporal_fc.bias               (768,)          \t(2304,)          114  backbone.blocks.5.temporal_attn.qkv.bias                     \n",
      "115  backbone.transformer_layers.layers.5.attentions.1.attn.in_proj_weight            (2304, 768)     \t(768, 768)       115  backbone.blocks.5.temporal_attn.proj.weight                  \n",
      "116  backbone.transformer_layers.layers.5.attentions.1.attn.in_proj_bias              (2304,)         \t(768,)           116  backbone.blocks.5.temporal_attn.proj.bias                    \n",
      "117  backbone.transformer_layers.layers.5.attentions.1.attn.out_proj.weight           (768, 768)      \t(768, 768)       117  backbone.blocks.5.temporal_fc.weight                         \n",
      "118  backbone.transformer_layers.layers.5.attentions.1.attn.out_proj.bias             (768,)          \t(768,)           118  backbone.blocks.5.temporal_fc.bias                           \n",
      "119  backbone.transformer_layers.layers.5.attentions.1.norm.weight                    (768,)          \t(768,)           119  backbone.blocks.5.norm2.weight                               \n",
      "120  backbone.transformer_layers.layers.5.attentions.1.norm.bias                      (768,)          \t(768,)           120  backbone.blocks.5.norm2.bias                                 \n",
      "121  backbone.transformer_layers.layers.5.ffns.0.layers.0.0.weight                    (3072, 768)     \t(3072, 768)      121  backbone.blocks.5.mlp.fc1.weight                             \n",
      "122  backbone.transformer_layers.layers.5.ffns.0.layers.0.0.bias                      (3072,)         \t(3072,)          122  backbone.blocks.5.mlp.fc1.bias                               \n",
      "123  backbone.transformer_layers.layers.5.ffns.0.layers.1.weight                      (768, 3072)     \t(768, 3072)      123  backbone.blocks.5.mlp.fc2.weight                             \n",
      "124  backbone.transformer_layers.layers.5.ffns.0.layers.1.bias                        (768,)          \t(768,)           124  backbone.blocks.5.mlp.fc2.bias                               \n",
      "125  backbone.transformer_layers.layers.5.ffns.0.norm.weight                          (768,)          \t(768,)           125  backbone.blocks.6.norm1.weight                               \n",
      "126  backbone.transformer_layers.layers.5.ffns.0.norm.bias                            (768,)          \t(768,)           126  backbone.blocks.6.norm1.bias                                 \n",
      "127  backbone.transformer_layers.layers.6.attentions.0.attn.in_proj_weight            (2304, 768)     \t(2304, 768)      127  backbone.blocks.6.attn.qkv.weight                            \n",
      "128  backbone.transformer_layers.layers.6.attentions.0.attn.in_proj_bias              (2304,)         \t(2304,)          128  backbone.blocks.6.attn.qkv.bias                              \n",
      "129  backbone.transformer_layers.layers.6.attentions.0.attn.out_proj.weight           (768, 768)      \t(768, 768)       129  backbone.blocks.6.attn.proj.weight                           \n",
      "130  backbone.transformer_layers.layers.6.attentions.0.attn.out_proj.bias             (768,)          \t(768,)           130  backbone.blocks.6.attn.proj.bias                             \n",
      "131  backbone.transformer_layers.layers.6.attentions.0.norm.weight                    (768,)          \t(768,)           131  backbone.blocks.6.temporal_norm1.weight                      \n",
      "132  backbone.transformer_layers.layers.6.attentions.0.norm.bias                      (768,)          \t(768,)           132  backbone.blocks.6.temporal_norm1.bias                        \n",
      "133  backbone.transformer_layers.layers.6.attentions.0.temporal_fc.weight             (768, 768)      \t(2304, 768)      133  backbone.blocks.6.temporal_attn.qkv.weight                   \n",
      "134  backbone.transformer_layers.layers.6.attentions.0.temporal_fc.bias               (768,)          \t(2304,)          134  backbone.blocks.6.temporal_attn.qkv.bias                     \n",
      "135  backbone.transformer_layers.layers.6.attentions.1.attn.in_proj_weight            (2304, 768)     \t(768, 768)       135  backbone.blocks.6.temporal_attn.proj.weight                  \n",
      "136  backbone.transformer_layers.layers.6.attentions.1.attn.in_proj_bias              (2304,)         \t(768,)           136  backbone.blocks.6.temporal_attn.proj.bias                    \n",
      "137  backbone.transformer_layers.layers.6.attentions.1.attn.out_proj.weight           (768, 768)      \t(768, 768)       137  backbone.blocks.6.temporal_fc.weight                         \n",
      "138  backbone.transformer_layers.layers.6.attentions.1.attn.out_proj.bias             (768,)          \t(768,)           138  backbone.blocks.6.temporal_fc.bias                           \n",
      "139  backbone.transformer_layers.layers.6.attentions.1.norm.weight                    (768,)          \t(768,)           139  backbone.blocks.6.norm2.weight                               \n",
      "140  backbone.transformer_layers.layers.6.attentions.1.norm.bias                      (768,)          \t(768,)           140  backbone.blocks.6.norm2.bias                                 \n",
      "141  backbone.transformer_layers.layers.6.ffns.0.layers.0.0.weight                    (3072, 768)     \t(3072, 768)      141  backbone.blocks.6.mlp.fc1.weight                             \n",
      "142  backbone.transformer_layers.layers.6.ffns.0.layers.0.0.bias                      (3072,)         \t(3072,)          142  backbone.blocks.6.mlp.fc1.bias                               \n",
      "143  backbone.transformer_layers.layers.6.ffns.0.layers.1.weight                      (768, 3072)     \t(768, 3072)      143  backbone.blocks.6.mlp.fc2.weight                             \n",
      "144  backbone.transformer_layers.layers.6.ffns.0.layers.1.bias                        (768,)          \t(768,)           144  backbone.blocks.6.mlp.fc2.bias                               \n",
      "145  backbone.transformer_layers.layers.6.ffns.0.norm.weight                          (768,)          \t(768,)           145  backbone.blocks.7.norm1.weight                               \n",
      "146  backbone.transformer_layers.layers.6.ffns.0.norm.bias                            (768,)          \t(768,)           146  backbone.blocks.7.norm1.bias                                 \n",
      "147  backbone.transformer_layers.layers.7.attentions.0.attn.in_proj_weight            (2304, 768)     \t(2304, 768)      147  backbone.blocks.7.attn.qkv.weight                            \n",
      "148  backbone.transformer_layers.layers.7.attentions.0.attn.in_proj_bias              (2304,)         \t(2304,)          148  backbone.blocks.7.attn.qkv.bias                              \n",
      "149  backbone.transformer_layers.layers.7.attentions.0.attn.out_proj.weight           (768, 768)      \t(768, 768)       149  backbone.blocks.7.attn.proj.weight                           \n",
      "150  backbone.transformer_layers.layers.7.attentions.0.attn.out_proj.bias             (768,)          \t(768,)           150  backbone.blocks.7.attn.proj.bias                             \n",
      "151  backbone.transformer_layers.layers.7.attentions.0.norm.weight                    (768,)          \t(768,)           151  backbone.blocks.7.temporal_norm1.weight                      \n",
      "152  backbone.transformer_layers.layers.7.attentions.0.norm.bias                      (768,)          \t(768,)           152  backbone.blocks.7.temporal_norm1.bias                        \n",
      "153  backbone.transformer_layers.layers.7.attentions.0.temporal_fc.weight             (768, 768)      \t(2304, 768)      153  backbone.blocks.7.temporal_attn.qkv.weight                   \n",
      "154  backbone.transformer_layers.layers.7.attentions.0.temporal_fc.bias               (768,)          \t(2304,)          154  backbone.blocks.7.temporal_attn.qkv.bias                     \n",
      "155  backbone.transformer_layers.layers.7.attentions.1.attn.in_proj_weight            (2304, 768)     \t(768, 768)       155  backbone.blocks.7.temporal_attn.proj.weight                  \n",
      "156  backbone.transformer_layers.layers.7.attentions.1.attn.in_proj_bias              (2304,)         \t(768,)           156  backbone.blocks.7.temporal_attn.proj.bias                    \n",
      "157  backbone.transformer_layers.layers.7.attentions.1.attn.out_proj.weight           (768, 768)      \t(768, 768)       157  backbone.blocks.7.temporal_fc.weight                         \n",
      "158  backbone.transformer_layers.layers.7.attentions.1.attn.out_proj.bias             (768,)          \t(768,)           158  backbone.blocks.7.temporal_fc.bias                           \n",
      "159  backbone.transformer_layers.layers.7.attentions.1.norm.weight                    (768,)          \t(768,)           159  backbone.blocks.7.norm2.weight                               \n",
      "160  backbone.transformer_layers.layers.7.attentions.1.norm.bias                      (768,)          \t(768,)           160  backbone.blocks.7.norm2.bias                                 \n",
      "161  backbone.transformer_layers.layers.7.ffns.0.layers.0.0.weight                    (3072, 768)     \t(3072, 768)      161  backbone.blocks.7.mlp.fc1.weight                             \n",
      "162  backbone.transformer_layers.layers.7.ffns.0.layers.0.0.bias                      (3072,)         \t(3072,)          162  backbone.blocks.7.mlp.fc1.bias                               \n",
      "163  backbone.transformer_layers.layers.7.ffns.0.layers.1.weight                      (768, 3072)     \t(768, 3072)      163  backbone.blocks.7.mlp.fc2.weight                             \n",
      "164  backbone.transformer_layers.layers.7.ffns.0.layers.1.bias                        (768,)          \t(768,)           164  backbone.blocks.7.mlp.fc2.bias                               \n",
      "165  backbone.transformer_layers.layers.7.ffns.0.norm.weight                          (768,)          \t(768,)           165  backbone.blocks.8.norm1.weight                               \n",
      "166  backbone.transformer_layers.layers.7.ffns.0.norm.bias                            (768,)          \t(768,)           166  backbone.blocks.8.norm1.bias                                 \n",
      "167  backbone.transformer_layers.layers.8.attentions.0.attn.in_proj_weight            (2304, 768)     \t(2304, 768)      167  backbone.blocks.8.attn.qkv.weight                            \n",
      "168  backbone.transformer_layers.layers.8.attentions.0.attn.in_proj_bias              (2304,)         \t(2304,)          168  backbone.blocks.8.attn.qkv.bias                              \n",
      "169  backbone.transformer_layers.layers.8.attentions.0.attn.out_proj.weight           (768, 768)      \t(768, 768)       169  backbone.blocks.8.attn.proj.weight                           \n",
      "170  backbone.transformer_layers.layers.8.attentions.0.attn.out_proj.bias             (768,)          \t(768,)           170  backbone.blocks.8.attn.proj.bias                             \n",
      "171  backbone.transformer_layers.layers.8.attentions.0.norm.weight                    (768,)          \t(768,)           171  backbone.blocks.8.temporal_norm1.weight                      \n",
      "172  backbone.transformer_layers.layers.8.attentions.0.norm.bias                      (768,)          \t(768,)           172  backbone.blocks.8.temporal_norm1.bias                        \n",
      "173  backbone.transformer_layers.layers.8.attentions.0.temporal_fc.weight             (768, 768)      \t(2304, 768)      173  backbone.blocks.8.temporal_attn.qkv.weight                   \n",
      "174  backbone.transformer_layers.layers.8.attentions.0.temporal_fc.bias               (768,)          \t(2304,)          174  backbone.blocks.8.temporal_attn.qkv.bias                     \n",
      "175  backbone.transformer_layers.layers.8.attentions.1.attn.in_proj_weight            (2304, 768)     \t(768, 768)       175  backbone.blocks.8.temporal_attn.proj.weight                  \n",
      "176  backbone.transformer_layers.layers.8.attentions.1.attn.in_proj_bias              (2304,)         \t(768,)           176  backbone.blocks.8.temporal_attn.proj.bias                    \n",
      "177  backbone.transformer_layers.layers.8.attentions.1.attn.out_proj.weight           (768, 768)      \t(768, 768)       177  backbone.blocks.8.temporal_fc.weight                         \n",
      "178  backbone.transformer_layers.layers.8.attentions.1.attn.out_proj.bias             (768,)          \t(768,)           178  backbone.blocks.8.temporal_fc.bias                           \n",
      "179  backbone.transformer_layers.layers.8.attentions.1.norm.weight                    (768,)          \t(768,)           179  backbone.blocks.8.norm2.weight                               \n",
      "180  backbone.transformer_layers.layers.8.attentions.1.norm.bias                      (768,)          \t(768,)           180  backbone.blocks.8.norm2.bias                                 \n",
      "181  backbone.transformer_layers.layers.8.ffns.0.layers.0.0.weight                    (3072, 768)     \t(3072, 768)      181  backbone.blocks.8.mlp.fc1.weight                             \n",
      "182  backbone.transformer_layers.layers.8.ffns.0.layers.0.0.bias                      (3072,)         \t(3072,)          182  backbone.blocks.8.mlp.fc1.bias                               \n",
      "183  backbone.transformer_layers.layers.8.ffns.0.layers.1.weight                      (768, 3072)     \t(768, 3072)      183  backbone.blocks.8.mlp.fc2.weight                             \n",
      "184  backbone.transformer_layers.layers.8.ffns.0.layers.1.bias                        (768,)          \t(768,)           184  backbone.blocks.8.mlp.fc2.bias                               \n",
      "185  backbone.transformer_layers.layers.8.ffns.0.norm.weight                          (768,)          \t(768,)           185  backbone.blocks.9.norm1.weight                               \n",
      "186  backbone.transformer_layers.layers.8.ffns.0.norm.bias                            (768,)          \t(768,)           186  backbone.blocks.9.norm1.bias                                 \n",
      "187  backbone.transformer_layers.layers.9.attentions.0.attn.in_proj_weight            (2304, 768)     \t(2304, 768)      187  backbone.blocks.9.attn.qkv.weight                            \n",
      "188  backbone.transformer_layers.layers.9.attentions.0.attn.in_proj_bias              (2304,)         \t(2304,)          188  backbone.blocks.9.attn.qkv.bias                              \n",
      "189  backbone.transformer_layers.layers.9.attentions.0.attn.out_proj.weight           (768, 768)      \t(768, 768)       189  backbone.blocks.9.attn.proj.weight                           \n",
      "190  backbone.transformer_layers.layers.9.attentions.0.attn.out_proj.bias             (768,)          \t(768,)           190  backbone.blocks.9.attn.proj.bias                             \n",
      "191  backbone.transformer_layers.layers.9.attentions.0.norm.weight                    (768,)          \t(768,)           191  backbone.blocks.9.temporal_norm1.weight                      \n",
      "192  backbone.transformer_layers.layers.9.attentions.0.norm.bias                      (768,)          \t(768,)           192  backbone.blocks.9.temporal_norm1.bias                        \n",
      "193  backbone.transformer_layers.layers.9.attentions.0.temporal_fc.weight             (768, 768)      \t(2304, 768)      193  backbone.blocks.9.temporal_attn.qkv.weight                   \n",
      "194  backbone.transformer_layers.layers.9.attentions.0.temporal_fc.bias               (768,)          \t(2304,)          194  backbone.blocks.9.temporal_attn.qkv.bias                     \n",
      "195  backbone.transformer_layers.layers.9.attentions.1.attn.in_proj_weight            (2304, 768)     \t(768, 768)       195  backbone.blocks.9.temporal_attn.proj.weight                  \n",
      "196  backbone.transformer_layers.layers.9.attentions.1.attn.in_proj_bias              (2304,)         \t(768,)           196  backbone.blocks.9.temporal_attn.proj.bias                    \n",
      "197  backbone.transformer_layers.layers.9.attentions.1.attn.out_proj.weight           (768, 768)      \t(768, 768)       197  backbone.blocks.9.temporal_fc.weight                         \n",
      "198  backbone.transformer_layers.layers.9.attentions.1.attn.out_proj.bias             (768,)          \t(768,)           198  backbone.blocks.9.temporal_fc.bias                           \n",
      "199  backbone.transformer_layers.layers.9.attentions.1.norm.weight                    (768,)          \t(768,)           199  backbone.blocks.9.norm2.weight                               \n",
      "200  backbone.transformer_layers.layers.9.attentions.1.norm.bias                      (768,)          \t(768,)           200  backbone.blocks.9.norm2.bias                                 \n",
      "201  backbone.transformer_layers.layers.9.ffns.0.layers.0.0.weight                    (3072, 768)     \t(3072, 768)      201  backbone.blocks.9.mlp.fc1.weight                             \n",
      "202  backbone.transformer_layers.layers.9.ffns.0.layers.0.0.bias                      (3072,)         \t(3072,)          202  backbone.blocks.9.mlp.fc1.bias                               \n",
      "203  backbone.transformer_layers.layers.9.ffns.0.layers.1.weight                      (768, 3072)     \t(768, 3072)      203  backbone.blocks.9.mlp.fc2.weight                             \n",
      "204  backbone.transformer_layers.layers.9.ffns.0.layers.1.bias                        (768,)          \t(768,)           204  backbone.blocks.9.mlp.fc2.bias                               \n",
      "205  backbone.transformer_layers.layers.9.ffns.0.norm.weight                          (768,)          \t(768,)           205  backbone.blocks.10.norm1.weight                              \n",
      "206  backbone.transformer_layers.layers.9.ffns.0.norm.bias                            (768,)          \t(768,)           206  backbone.blocks.10.norm1.bias                                \n",
      "207  backbone.transformer_layers.layers.10.attentions.0.attn.in_proj_weight           (2304, 768)     \t(2304, 768)      207  backbone.blocks.10.attn.qkv.weight                           \n",
      "208  backbone.transformer_layers.layers.10.attentions.0.attn.in_proj_bias             (2304,)         \t(2304,)          208  backbone.blocks.10.attn.qkv.bias                             \n",
      "209  backbone.transformer_layers.layers.10.attentions.0.attn.out_proj.weight          (768, 768)      \t(768, 768)       209  backbone.blocks.10.attn.proj.weight                          \n",
      "210  backbone.transformer_layers.layers.10.attentions.0.attn.out_proj.bias            (768,)          \t(768,)           210  backbone.blocks.10.attn.proj.bias                            \n",
      "211  backbone.transformer_layers.layers.10.attentions.0.norm.weight                   (768,)          \t(768,)           211  backbone.blocks.10.temporal_norm1.weight                     \n",
      "212  backbone.transformer_layers.layers.10.attentions.0.norm.bias                     (768,)          \t(768,)           212  backbone.blocks.10.temporal_norm1.bias                       \n",
      "213  backbone.transformer_layers.layers.10.attentions.0.temporal_fc.weight            (768, 768)      \t(2304, 768)      213  backbone.blocks.10.temporal_attn.qkv.weight                  \n",
      "214  backbone.transformer_layers.layers.10.attentions.0.temporal_fc.bias              (768,)          \t(2304,)          214  backbone.blocks.10.temporal_attn.qkv.bias                    \n",
      "215  backbone.transformer_layers.layers.10.attentions.1.attn.in_proj_weight           (2304, 768)     \t(768, 768)       215  backbone.blocks.10.temporal_attn.proj.weight                 \n",
      "216  backbone.transformer_layers.layers.10.attentions.1.attn.in_proj_bias             (2304,)         \t(768,)           216  backbone.blocks.10.temporal_attn.proj.bias                   \n",
      "217  backbone.transformer_layers.layers.10.attentions.1.attn.out_proj.weight          (768, 768)      \t(768, 768)       217  backbone.blocks.10.temporal_fc.weight                        \n",
      "218  backbone.transformer_layers.layers.10.attentions.1.attn.out_proj.bias            (768,)          \t(768,)           218  backbone.blocks.10.temporal_fc.bias                          \n",
      "219  backbone.transformer_layers.layers.10.attentions.1.norm.weight                   (768,)          \t(768,)           219  backbone.blocks.10.norm2.weight                              \n",
      "220  backbone.transformer_layers.layers.10.attentions.1.norm.bias                     (768,)          \t(768,)           220  backbone.blocks.10.norm2.bias                                \n",
      "221  backbone.transformer_layers.layers.10.ffns.0.layers.0.0.weight                   (3072, 768)     \t(3072, 768)      221  backbone.blocks.10.mlp.fc1.weight                            \n",
      "222  backbone.transformer_layers.layers.10.ffns.0.layers.0.0.bias                     (3072,)         \t(3072,)          222  backbone.blocks.10.mlp.fc1.bias                              \n",
      "223  backbone.transformer_layers.layers.10.ffns.0.layers.1.weight                     (768, 3072)     \t(768, 3072)      223  backbone.blocks.10.mlp.fc2.weight                            \n",
      "224  backbone.transformer_layers.layers.10.ffns.0.layers.1.bias                       (768,)          \t(768,)           224  backbone.blocks.10.mlp.fc2.bias                              \n",
      "225  backbone.transformer_layers.layers.10.ffns.0.norm.weight                         (768,)          \t(768,)           225  backbone.blocks.11.norm1.weight                              \n",
      "226  backbone.transformer_layers.layers.10.ffns.0.norm.bias                           (768,)          \t(768,)           226  backbone.blocks.11.norm1.bias                                \n",
      "227  backbone.transformer_layers.layers.11.attentions.0.attn.in_proj_weight           (2304, 768)     \t(2304, 768)      227  backbone.blocks.11.attn.qkv.weight                           \n",
      "228  backbone.transformer_layers.layers.11.attentions.0.attn.in_proj_bias             (2304,)         \t(2304,)          228  backbone.blocks.11.attn.qkv.bias                             \n",
      "229  backbone.transformer_layers.layers.11.attentions.0.attn.out_proj.weight          (768, 768)      \t(768, 768)       229  backbone.blocks.11.attn.proj.weight                          \n",
      "230  backbone.transformer_layers.layers.11.attentions.0.attn.out_proj.bias            (768,)          \t(768,)           230  backbone.blocks.11.attn.proj.bias                            \n",
      "231  backbone.transformer_layers.layers.11.attentions.0.norm.weight                   (768,)          \t(768,)           231  backbone.blocks.11.temporal_norm1.weight                     \n",
      "232  backbone.transformer_layers.layers.11.attentions.0.norm.bias                     (768,)          \t(768,)           232  backbone.blocks.11.temporal_norm1.bias                       \n",
      "233  backbone.transformer_layers.layers.11.attentions.0.temporal_fc.weight            (768, 768)      \t(2304, 768)      233  backbone.blocks.11.temporal_attn.qkv.weight                  \n",
      "234  backbone.transformer_layers.layers.11.attentions.0.temporal_fc.bias              (768,)          \t(2304,)          234  backbone.blocks.11.temporal_attn.qkv.bias                    \n",
      "235  backbone.transformer_layers.layers.11.attentions.1.attn.in_proj_weight           (2304, 768)     \t(768, 768)       235  backbone.blocks.11.temporal_attn.proj.weight                 \n",
      "236  backbone.transformer_layers.layers.11.attentions.1.attn.in_proj_bias             (2304,)         \t(768,)           236  backbone.blocks.11.temporal_attn.proj.bias                   \n",
      "237  backbone.transformer_layers.layers.11.attentions.1.attn.out_proj.weight          (768, 768)      \t(768, 768)       237  backbone.blocks.11.temporal_fc.weight                        \n",
      "238  backbone.transformer_layers.layers.11.attentions.1.attn.out_proj.bias            (768,)          \t(768,)           238  backbone.blocks.11.temporal_fc.bias                          \n",
      "239  backbone.transformer_layers.layers.11.attentions.1.norm.weight                   (768,)          \t(768,)           239  backbone.blocks.11.norm2.weight                              \n",
      "240  backbone.transformer_layers.layers.11.attentions.1.norm.bias                     (768,)          \t(768,)           240  backbone.blocks.11.norm2.bias                                \n",
      "241  backbone.transformer_layers.layers.11.ffns.0.layers.0.0.weight                   (3072, 768)     \t(3072, 768)      241  backbone.blocks.11.mlp.fc1.weight                            \n",
      "242  backbone.transformer_layers.layers.11.ffns.0.layers.0.0.bias                     (3072,)         \t(3072,)          242  backbone.blocks.11.mlp.fc1.bias                              \n",
      "243  backbone.transformer_layers.layers.11.ffns.0.layers.1.weight                     (768, 3072)     \t(768, 3072)      243  backbone.blocks.11.mlp.fc2.weight                            \n",
      "244  backbone.transformer_layers.layers.11.ffns.0.layers.1.bias                       (768,)          \t(768,)           244  backbone.blocks.11.mlp.fc2.bias                              \n",
      "245  backbone.transformer_layers.layers.11.ffns.0.norm.weight                         (768,)          \t(768,)           245  backbone.norm.weight                                         \n",
      "246  backbone.transformer_layers.layers.11.ffns.0.norm.bias                           (768,)          \t(768,)           246  backbone.norm.bias                                           \n",
      "247  cls_head.fc_cls.weight                                                           (400, 768)      \t(2048, 768)      247  head.mlp.0.weight                                            \n",
      "248  cls_head.fc_cls.bias                                                             (400,)          \t(2048,)          248  head.mlp.0.bias                                              \n"
     ]
    }
   ],
   "source": [
    "for i, (k1, k2) in enumerate(zip(pth_ref['state_dict'], pth_source)):\n",
    "    print(f'{i:3d}  {k1:80} {str(tuple(pth_ref[\"state_dict\"][k1].shape)):16s}\\t{str(tuple(pth_source[k2].shape)):16s} {i:3d}  {k2:60} ')"
   ]
  },
  {
   "cell_type": "code",
   "execution_count": 16,
   "metadata": {},
   "outputs": [
    {
     "data": {
      "text/plain": [
       "[(0, 'backbone.cls_token'),\n",
       " (1, 'backbone.pos_embed'),\n",
       " (2, 'backbone.time_embed'),\n",
       " (3, 'backbone.patch_embed.proj.weight'),\n",
       " (4, 'backbone.patch_embed.proj.bias'),\n",
       " (5, 'backbone.blocks.0.norm1.weight'),\n",
       " (6, 'backbone.blocks.0.norm1.bias'),\n",
       " (7, 'backbone.blocks.0.attn.qkv.weight'),\n",
       " (8, 'backbone.blocks.0.attn.qkv.bias'),\n",
       " (9, 'backbone.blocks.0.attn.proj.weight'),\n",
       " (10, 'backbone.blocks.0.attn.proj.bias'),\n",
       " (11, 'backbone.blocks.0.temporal_norm1.weight'),\n",
       " (12, 'backbone.blocks.0.temporal_norm1.bias'),\n",
       " (13, 'backbone.blocks.0.temporal_fc.weight'),\n",
       " (14, 'backbone.blocks.0.temporal_fc.bias'),\n",
       " (15, 'backbone.blocks.0.temporal_attn.qkv.weight'),\n",
       " (16, 'backbone.blocks.0.temporal_attn.qkv.bias'),\n",
       " (17, 'backbone.blocks.0.temporal_attn.proj.weight'),\n",
       " (18, 'backbone.blocks.0.temporal_attn.proj.bias'),\n",
       " (19, 'backbone.blocks.0.norm2.weight')]"
      ]
     },
     "execution_count": 16,
     "metadata": {},
     "output_type": "execute_result"
    }
   ],
   "source": [
    "new_state_dict_order_and_key = []\n",
    "for i, k in enumerate(pth_source.keys()):\n",
    "    if 'temporal_attn' in k:\n",
    "        new_state_dict_order_and_key.append((i + 2, k))\n",
    "    elif 'temporal_fc' in k:\n",
    "        new_state_dict_order_and_key.append((i - 4, k))\n",
    "    else:\n",
    "        new_state_dict_order_and_key.append((i, k))\n",
    "new_state_dict_order_and_key = sorted(new_state_dict_order_and_key, key=lambda elem: elem[0])\n",
    "new_state_dict_order_and_key[:20]"
   ]
  },
  {
   "cell_type": "code",
   "execution_count": 23,
   "metadata": {},
   "outputs": [],
   "source": [
    "pth_new = pth_ref.copy()\n",
    "for i, (k1, (j, k2)) in enumerate(zip(pth_ref['state_dict'], new_state_dict_order_and_key)):\n",
    "   assert i == j, f'{i} {j}'\n",
    "   pth_new['state_dict'][k1] = pth_source[k2] "
   ]
  },
  {
   "cell_type": "code",
   "execution_count": 24,
   "metadata": {},
   "outputs": [],
   "source": [
    "path = '/data/hyogun/repos/haawron_mmaction2/data/weights/svt/releases/download/v1.0/SVT_mmaction.pth'\n",
    "torch.save(pth_new, path)"
   ]
  },
  {
   "cell_type": "code",
   "execution_count": 22,
   "metadata": {},
   "outputs": [
    {
     "data": {
      "text/plain": [
       "tensor(False)"
      ]
     },
     "execution_count": 22,
     "metadata": {},
     "output_type": "execute_result"
    }
   ],
   "source": [
    "(pth_new['backbone.cls_token'] == pth_ref['state_dict']['backbone.cls_token']).all()"
   ]
  },
  {
   "cell_type": "code",
   "execution_count": null,
   "metadata": {},
   "outputs": [],
   "source": [
    "zzzz.keys()"
   ]
  }
 ],
 "metadata": {
  "interpreter": {
   "hash": "5bffa9bf2f09109ed8eb2df7a7ed69cac97689136798a3d627c1002bd814088d"
  },
  "kernelspec": {
   "display_name": "Python 3.7.11 ('open-mmlab')",
   "language": "python",
   "name": "python3"
  },
  "language_info": {
   "codemirror_mode": {
    "name": "ipython",
    "version": 3
   },
   "file_extension": ".py",
   "mimetype": "text/x-python",
   "name": "python",
   "nbconvert_exporter": "python",
   "pygments_lexer": "ipython3",
   "version": "3.7.11"
  },
  "orig_nbformat": 4
 },
 "nbformat": 4,
 "nbformat_minor": 2
}
