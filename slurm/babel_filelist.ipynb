{
 "cells": [
  {
   "cell_type": "code",
   "execution_count": 20,
   "metadata": {},
   "outputs": [],
   "source": [
    "from pathlib import Path\n",
    "import csv\n",
    "import os\n",
    "from tqdm import tqdm"
   ]
  },
  {
   "cell_type": "code",
   "execution_count": 21,
   "metadata": {},
   "outputs": [],
   "source": [
    "all_mp4s = os.popen('ls -d /data/dataset/babel_v1.0_release/renders/**/*.mp4').read().split()\n",
    "all_mp4s = [Path(p) for p in all_mp4s]"
   ]
  },
  {
   "cell_type": "code",
   "execution_count": 27,
   "metadata": {},
   "outputs": [
    {
     "name": "stdout",
     "output_type": "stream",
     "text": [
      "['000001', '000005', '000006', '000009', '000014']\n"
     ]
    },
    {
     "name": "stderr",
     "output_type": "stream",
     "text": [
      "100%|██████████| 1672/1672 [00:03<00:00, 514.65it/s]\n",
      "100%|██████████| 452/452 [00:00<00:00, 566.19it/s]\n",
      "100%|██████████| 1672/1672 [00:03<00:00, 507.76it/s]\n",
      "100%|██████████| 1672/1672 [00:03<00:00, 521.87it/s]\n",
      "100%|██████████| 2963/2963 [00:06<00:00, 460.23it/s]\n",
      "100%|██████████| 10176/10176 [00:22<00:00, 450.20it/s]\n",
      "100%|██████████| 404/404 [00:00<00:00, 640.04it/s]\n",
      "100%|██████████| 10176/10176 [00:22<00:00, 461.85it/s]\n",
      "100%|██████████| 1672/1672 [00:03<00:00, 514.83it/s]\n"
     ]
    }
   ],
   "source": [
    "def fast_scandir(dirname):\n",
    "    subfolders= [Path(f.path) for f in os.scandir(dirname) if f.is_dir()]\n",
    "    for dirname in list(subfolders):\n",
    "        subfolders.extend(fast_scandir(dirname))\n",
    "    return subfolders\n",
    "\n",
    "def wrapper(p_files):\n",
    "    return {p.stem: p.parent.name for p in p_files if p.suffix == '.mp4' and 'extra' not in p.parent.name}\n",
    "\n",
    "start_index = 0\n",
    "p_babel_filelist_dir = Path('/data/hyogun/repos/haawron_mmaction2/data/_filelists/babel')\n",
    "p_babel_filelist_new_dir = p_babel_filelist_dir / 'processed'\n",
    "p_babel_filelist_new_dir.mkdir(exist_ok=True)\n",
    "p_babel_rawframes_dir = Path('/data/hyogun/repos/haawron_mmaction2/data/babel_v1.0_release/rawframes')\n",
    "p_babel_videos_visited = wrapper(all_mp4s)\n",
    "print(list(p_babel_videos_visited.keys())[:5])\n",
    "for p_babel_filelist_old in p_babel_filelist_dir.glob('*.txt'):\n",
    "    if 'stats' in p_babel_filelist_old.stem: continue\n",
    "    p_babel_filelist_new = p_babel_filelist_new_dir / p_babel_filelist_old.name\n",
    "    with p_babel_filelist_old.open('r') as f1, p_babel_filelist_new.open('w') as f2:\n",
    "        reader = csv.reader(f1, delimiter=' ')\n",
    "        writer = csv.writer(f2, delimiter=' ')\n",
    "        for videoname, t_start, length, label in tqdm(list(reader)):\n",
    "            fake_split, videoname = videoname.split('/')\n",
    "            videoname = f'{int(videoname):06d}'\n",
    "            real_split = p_babel_videos_visited[videoname]\n",
    "            p_video = p_babel_rawframes_dir / real_split / videoname\n",
    "            num_frames = len(list(p_video.glob('*.jpg')))\n",
    "            t_start = max(int(t_start), start_index)\n",
    "            length = min(int(length), num_frames-t_start)\n",
    "            row = [f'{real_split}/{videoname}', t_start, length, label]\n",
    "            writer.writerow(row)"
   ]
  },
  {
   "cell_type": "code",
   "execution_count": null,
   "metadata": {},
   "outputs": [],
   "source": []
  }
 ],
 "metadata": {
  "kernelspec": {
   "display_name": "open-mmlab",
   "language": "python",
   "name": "python3"
  },
  "language_info": {
   "codemirror_mode": {
    "name": "ipython",
    "version": 3
   },
   "file_extension": ".py",
   "mimetype": "text/x-python",
   "name": "python",
   "nbconvert_exporter": "python",
   "pygments_lexer": "ipython3",
   "version": "3.7.11 (default, Jul 27 2021, 14:32:16) \n[GCC 7.5.0]"
  },
  "orig_nbformat": 4,
  "vscode": {
   "interpreter": {
    "hash": "5bffa9bf2f09109ed8eb2df7a7ed69cac97689136798a3d627c1002bd814088d"
   }
  }
 },
 "nbformat": 4,
 "nbformat_minor": 2
}
