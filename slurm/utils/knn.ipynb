{
 "cells": [
  {
   "cell_type": "code",
   "execution_count": 5,
   "metadata": {},
   "outputs": [
    {
     "name": "stdout",
     "output_type": "stream",
     "text": [
      "/data/hyogun/repos/haawron_mmaction2\n"
     ]
    }
   ],
   "source": [
    "from mmcv import Config\n",
    "\n",
    "import numpy as np\n",
    "from pathlib import Path\n",
    "import csv\n",
    "import os\n",
    "if not os.getcwd().endswith('haawron_mmaction2'):\n",
    "    os.chdir('..')\n",
    "print(os.getcwd())"
   ]
  },
  {
   "cell_type": "code",
   "execution_count": 10,
   "metadata": {},
   "outputs": [
    {
     "data": {
      "text/plain": [
       "'data/_filelists/k400/processed/filelist_k400_train_closed.txt'"
      ]
     },
     "execution_count": 10,
     "metadata": {},
     "output_type": "execute_result"
    }
   ],
   "source": [
    "p_source_config = Path('configs/recognition/hello/vanilla/vanilla_timesformer_k400_closed.py')\n",
    "p_target_config = Path('configs/recognition/hello/vanilla/vanilla_timesformer_babel_closed.py')\n",
    "cfg_source = Config.fromfile(p_source_config)\n",
    "cfg_target = Config.fromfile(p_target_config)\n",
    "cfg_source['data']['train']['ann_file']"
   ]
  }
 ],
 "metadata": {
  "kernelspec": {
   "display_name": "open-mmlab",
   "language": "python",
   "name": "python3"
  },
  "language_info": {
   "codemirror_mode": {
    "name": "ipython",
    "version": 3
   },
   "file_extension": ".py",
   "mimetype": "text/x-python",
   "name": "python",
   "nbconvert_exporter": "python",
   "pygments_lexer": "ipython3",
   "version": "3.7.11"
  },
  "orig_nbformat": 4,
  "vscode": {
   "interpreter": {
    "hash": "5bffa9bf2f09109ed8eb2df7a7ed69cac97689136798a3d627c1002bd814088d"
   }
  }
 },
 "nbformat": 4,
 "nbformat_minor": 2
}
